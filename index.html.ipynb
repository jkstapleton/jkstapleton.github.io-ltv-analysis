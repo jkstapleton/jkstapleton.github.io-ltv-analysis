{
 "cells": [
  {
   "cell_type": "markdown",
   "id": "f2c30fa5",
   "metadata": {},
   "source": [
    "# Customer Churn and Revenue Prediction Model\n",
    "\n",
    "# 1. Description\n",
    "\n",
    "Customer churn represents a significant cost to businesses — not only through lost revenue but also through the increased marketing expense to acquire new customers.This model helps mitigate churn by predicting which customers are at risk of \"churning\", which will be defined in this model as not purchasing over the next quarter.\n",
    "\n",
    "Using this information insight, marketing can automate targetted discount on products which the customer has previously purchase to improve retention rates. Additionally, the model estimates each customer’s expected spend over the same period, enhancing the ability to be cost efficient with the usage customer retention efforts.\n",
    "\n",
    "The model was built using transactional data from a UK-based e-commerce store and follows a two-stage regression approach:\n",
    "\n",
    "1. **Churn Prediction (Logistic Regression)**  \n",
    "   Estimates the probability of a customer churning within the next three months.\n",
    "\n",
    "2. **Future Spend Prediction (Linear Regression)**  \n",
    "   For customers predicted to remain active, forecasts their total spending over the same period.\n",
    "\n",
    "Currently, the model uses **Recency, Frequency, and Monetary (RFM)** features for its predictions. Future iterations will incorporate additional features following the initial deployment.\n",
    "\n",
    "By leveraging this model, the marketing team can better identify high-value customers at risk of churning and intervene to \"save\" them."
   ]
  },
  {
   "cell_type": "markdown",
   "id": "5f948c84",
   "metadata": {},
   "source": [
    "# 2.  Establishing the Environment/ Loading the data\n",
    "Sci Kit learn will be used for the ML modelling and SeaBorne, Matplotlib for the graphing. "
   ]
  },
  {
   "cell_type": "markdown",
   "id": "16112781",
   "metadata": {},
   "source": [
    "### Basic data information \n",
    "The transactional data used for the model is from 01/12/2010 to 09/12/2011 and is from a UK-based and registered non-store online retailer[[1]](#1). The company mainly sells unique all-occasion gifts. Many customers of the company are wholesalers. This is an example of the data below.\n",
    "\n",
    "\n",
    "### Cleaning data \n",
    "\n",
    "The inital number of transactions was 4,335,272 but after taking out any data errors such as negative numbers or null values there were 3,183,072  transactional datapoints. More then 25% which is a significant number."
   ]
  },
  {
   "cell_type": "markdown",
   "id": "e47e00ba",
   "metadata": {},
   "source": [
    "\n",
    "![transaction_example](./Graphs/data_example.png)"
   ]
  },
  {
   "cell_type": "markdown",
   "id": "705423f4",
   "metadata": {},
   "source": [
    "# 3.  Initial Data Exploration\n",
    "\n",
    "\n",
    "### Sales \n",
    "  Around 700-800k of sales between January - August which increases to $1 million for September to December \n",
    "\n",
    "### Customers \n",
    "  There are 4338 unique customer IDs\n",
    "\n",
    "### Revenue by Customer\n",
    " The majority of customer  spend around $10,000 at the retailer with around 100 spending between between 10,000 - 250,000 \n"
   ]
  },
  {
   "cell_type": "markdown",
   "id": "99aa35d0",
   "metadata": {},
   "source": [
    "![Sales by customer](./Graphs/sales_by_customer.png)"
   ]
  },
  {
   "cell_type": "markdown",
   "id": "cdd46952",
   "metadata": {},
   "source": [
    "### Top selling items by product\n",
    "The top selling items shows the store has a varied catalogue of items not following any certain theme"
   ]
  },
  {
   "cell_type": "markdown",
   "id": "22ae6852",
   "metadata": {},
   "source": [
    "![top_selling items](./Graphs/sales_by_product.png)"
   ]
  },
  {
   "cell_type": "markdown",
   "id": "9e11094f",
   "metadata": {},
   "source": [
    "### Sales by Country\n",
    "\n",
    "The majority of sales are from the United Kingdom compared with any other country"
   ]
  },
  {
   "cell_type": "markdown",
   "id": "d669ec50",
   "metadata": {},
   "source": [
    "![Total sales by country](./Graphs/sales_by_country.png)"
   ]
  },
  {
   "cell_type": "markdown",
   "id": "090a394c",
   "metadata": {},
   "source": [
    "## 4a - Defining the structure and parameters of the model\n",
    "\n",
    "This model aims to predict the future health and value of a customer over a specified time period (time to churn).\n",
    "The output of these models will be used to:\n",
    "\n",
    "            1. Predict who in the customer base is at risk of churning\n",
    "\n",
    "            2. Sort the customers at risk by highest expected revenue\n",
    "            \n",
    "            3. Create marketing material based on the preferences of the customers at risk\n",
    "\n",
    "\n",
    "We will define churn as a customer not having purchased a good for 90 days and set the targets accordingly.\n",
    "\n",
    "\n"
   ]
  },
  {
   "cell_type": "markdown",
   "id": "8f8fbeca",
   "metadata": {},
   "source": [
    "# 4b. Create  Features \n",
    "RFM will be used as the basic dynamics for the features of the  ML model as they have been proven to be important data points in predicting future customer behaviour  [[1]](#1)\n",
    "\n",
    "**Recency**\n",
    "\n",
    "- when was the last time they made a purchase in days\n",
    "\n",
    "**Frequency**\n",
    "     \n",
    "- How many times did they purchase during the period\n",
    "\n",
    "**Monetary Values**\n",
    "\n",
    "- What was the total monetary value they spent during the time and what is the average value of the the transactions\n",
    "\n",
    "\n",
    "As RFM have known relationships between the future value of a customer we will use this as the basis for the ML. In the future we can develop further features which increase the relationship between historical data and the future value.\n",
    "\n",
    "\n"
   ]
  },
  {
   "cell_type": "markdown",
   "id": "e81c4f99",
   "metadata": {},
   "source": [
    "### Recency Features\n",
    "Recency is represented by days since last purchase where the max date is minused by the recent date purchase. There is a right skew on the data where the majority of users are quite recent users. Except for a larger group which havent purchased for 250+ days\n"
   ]
  },
  {
   "cell_type": "markdown",
   "id": "f95e5339",
   "metadata": {},
   "source": [
    "![Total sales by country](./Graphs/customers_by_recency.png)"
   ]
  },
  {
   "cell_type": "markdown",
   "id": "fb060407",
   "metadata": {},
   "source": [
    "### Frequency Features\n",
    "The number of times in which they purchased over the period by customer. There is a large right skew in the data with the majority purchasing between 0 and 25 times over the period with the highest frequency customer purchasing 4490 times"
   ]
  },
  {
   "cell_type": "markdown",
   "id": "51f2203f",
   "metadata": {},
   "source": [
    "![Total sales by country](./Graphs/freq_purch.png)\n",
    "![Total sales by country](./Graphs/main_freq.png)"
   ]
  },
  {
   "cell_type": "markdown",
   "id": "1390090e",
   "metadata": {},
   "source": [
    "### Monetary Value Features\n",
    "- The average sale of each transactions and the total sales during the period of historical sales for each customer. These did not need to be tested as features as they are direct indicators of what they are predicting."
   ]
  },
  {
   "cell_type": "markdown",
   "id": "3339314c",
   "metadata": {},
   "source": [
    "### Amount of Sales in the last thirty days\n",
    "\n",
    "This feature brings together Recency and Monetary value with it measuring the amount of sales by customer in the last 30 days. After filtering for customers which spent less then $1000 in the last 30 days we see the majority of customers with sales between this period spent between 100 and 300. 48 customers spent more then 1000 and with the largest spend being $17,754.4"
   ]
  },
  {
   "cell_type": "markdown",
   "id": "8ab916b9",
   "metadata": {},
   "source": [
    "![Total sales by country](./Graphs/freq_30.png)\n",
    "![Total sales by country](./Graphs/main_freq_30.png)\n"
   ]
  },
  {
   "cell_type": "markdown",
   "id": "a2af2e87",
   "metadata": {},
   "source": [
    "# 5.Proving relationship between the features and the propensity to churn"
   ]
  },
  {
   "cell_type": "markdown",
   "id": "afc2d9b1",
   "metadata": {},
   "source": [
    "\n",
    "### Hypothesis: Recency and Churn\n",
    "\n",
    "The hypothesis is that customers who made a purchase more recently are less likely to churn. This is based on the assumption that the more recent the purchase, the lower the likelihood of external factors—such as shifting market dynamics, changes in the product catalogue, or supplier switches—disrupting their demand.\n",
    "\n",
    "### Analysis\n",
    "\n",
    "The boxplot below supports this hypothesis, showing that customers who **did not churn** (i.e., made a purchase within the last 90 days) had, on average, a more recent purchase date than those who **did churn**. This suggests that **recency** is a strong indicator of churn likelihood.\n",
    "\n",
    "### Statistical Validation\n",
    "\n",
    "This relationship is further validated by a **one-way ANOVA test**, which returned a **p-value near zero**—indicating a **statistically significant difference** in average recency between churned and non-churned customers.\n"
   ]
  },
  {
   "cell_type": "markdown",
   "id": "5facd55a",
   "metadata": {},
   "source": [
    "#### Testing hypothesis\n",
    "\n",
    "![Comparing Recency and Churn](./Graphs/recency_vs_churning.png)\n",
    "\n",
    "![p value for recency and churn](./Graphs/p_value_recency.png)\n"
   ]
  },
  {
   "cell_type": "markdown",
   "id": "d2620f49",
   "metadata": {},
   "source": [
    "### Hypothesis: Frequency vs Churn\n",
    "\n",
    "That customers with higher purchase frequency are less likely to churn. The rationale is that frequent purchases may indicate a stronger habit and greater dependency on the supplier, making churn less likely.\n",
    "\n",
    "### Analysis\n",
    "\n",
    "The boxplot below shows that customers who did **not** churn have a **higher average purchase frequency** compared to those who did. This supports the idea that frequency is a meaningful indicator of churn behavior.\n",
    "\n",
    "### Statistical Validation\n",
    "\n",
    "The p-value from the statistical test comparing frequency and 90-day churn is **very low**, indicating a **strong relationship** between purchase frequency and churn likelihood. In other words, it's highly probable that these two variables are related."
   ]
  },
  {
   "cell_type": "markdown",
   "id": "dfcd02d9",
   "metadata": {},
   "source": [
    "![frequency vs churn](./Graphs/freq_vs_churn.png)\n",
    "\n",
    "![p value for recency and churn](./Graphs/p_value_frequency.png)"
   ]
  },
  {
   "cell_type": "markdown",
   "id": "d0225122",
   "metadata": {},
   "source": [
    "### Monetary predictions\n",
    "\n",
    "The average value of a sale and the total sale value were used as the predictors for the expected sales over the 90 days.\n",
    "\n",
    "![Monetary value prediction](./Graphs/total_sales_vs_quarterly.png)"
   ]
  },
  {
   "cell_type": "markdown",
   "id": "5487a76f",
   "metadata": {},
   "source": [
    "# 6. Training and testing the models\n",
    "\n",
    "An 80/20 split was used for training the models.\n",
    "\n"
   ]
  },
  {
   "cell_type": "markdown",
   "id": "62363e2b",
   "metadata": {},
   "source": [
    "### Linear monetary predictions\n",
    "\n",
    "The Prediction are as seen below with a RMSE of 9028\n",
    "\n",
    "![Linear Monetary Prediction](./Graphs/actual_vs_predicted_monetary.png)\n",
    "\n"
   ]
  },
  {
   "cell_type": "markdown",
   "id": "356923e8",
   "metadata": {},
   "source": [
    "### Churn Prediction\n",
    "Logistic regression is being used for the Churn prediction. Several solvers were tested and compared for their accuracy."
   ]
  },
  {
   "cell_type": "markdown",
   "id": "d9ca0924",
   "metadata": {},
   "source": [
    "#### Logistics regression \n",
    "\n",
    "\n",
    "![Logistic regression classification](./Graphs/log_reg_accuracy.png)\n",
    "#### Liblinear regression\n",
    "![Liblinear classification](./Graphs/lib_linear_accuracy.png)\n",
    "\n",
    "#### Saga regression\n",
    "![saga classification](./Graphs/saga_accuracy.png)\n",
    "\n",
    "#### Sag regression\n",
    "\n",
    "![sag classification](./Graphs/sag_accuracy.png)"
   ]
  },
  {
   "cell_type": "markdown",
   "id": "15786f14",
   "metadata": {},
   "source": [
    "The major cost for the a company is a customer churning, which hadnt been predicted to churn. Therefore the true benefit of the model is based on the recall which are the true positives for Churn prediction. Therefore liblinear with a calculated recall of Churned of 62% will be utilised. The strategy of targeted strategy of small targetted discounts, means that true negatives only have a small cost associated with the intervention."
   ]
  },
  {
   "cell_type": "markdown",
   "id": "a8d393e0",
   "metadata": {},
   "source": [
    "# 7. Application of the model to the total dataset\n",
    "\n",
    "\n",
    "![image.png](./Graphs/confusion_lib_total_population.png)"
   ]
  },
  {
   "cell_type": "markdown",
   "id": "cc322ae7",
   "metadata": {},
   "source": [
    "The accuracy increased to 64% once liblinear was applied to the total dataset"
   ]
  },
  {
   "cell_type": "markdown",
   "id": "bb5aa4d0",
   "metadata": {},
   "source": [
    "![image.png](./Graphs/classification_total_pop.png)"
   ]
  },
  {
   "cell_type": "markdown",
   "id": "ce464a4e",
   "metadata": {},
   "source": [
    "# The Marketing Campaign\n",
    "\n",
    "The campaign will target customers who are predicted to churn by offering them small but specific discounts (e.g., 8%) on their three largest previous purchases. Research indicates that such promotions increase customer repurchase intentions by 13 to 21% [[2]](#2) by creating a sense of urgency and encouraging larger order quantities.\n",
    "These targeted discounts are expected to reduce churn through:\n",
    "\n",
    "#### > Increasing customer's goodwill\n",
    "#### > Decreasing intervals between purchases, which reinforces habitual buying behavior\n",
    "\n",
    "A rough estimate on the cost of the marketing program is calculated by multiplying the discount rate by the expected customer spend, totaling $21,470. However, two important factors must be considered:\n",
    "\n",
    "Approximately 36% of predicted churning customers will be misidentified($ 7156.6), meaning about one-third of these discounts will be given to customers who would have stayed regardless.\n",
    "\n",
    "The cost of these discounts should be offset by increased revenue from retained customers and their subsequent repeat purchases. This however will would be impossible to predict therefore this programme should be run on a continual basis to better understand the impacts on customer retention and changing purchasing behaviour.\n",
    "\n",
    "\n"
   ]
  },
  {
   "cell_type": "markdown",
   "id": "de8f5713",
   "metadata": {},
   "source": [
    "# 8. Constraints/ Improvements\n",
    "\n",
    "### Lack of customer data \n",
    "\n",
    "As the model is built on purely transactional data the predictions can only be so accurate. If the project had access to the average customer data of a CMS, we would expect the model to see a substantial increase in its accuracy and effectiveness.\n",
    "\n",
    "### Inability to test the solutions \n",
    "\n",
    "If we were able to run A\\B testing for this experiment we would be able to see the effectiveness of the promotions in increasing a customers spending habits and factor this in to the expected benefit/cost from the promotion. \n",
    "We would be able to understand\n",
    "\n",
    "    1. How many people used the promotion?\n",
    "\n",
    "    2. how many instances of cross selling come with the promotional use?\n",
    "\n",
    "    3. Did the use of the promotion have any long term behavioural changes?"
   ]
  },
  {
   "cell_type": "markdown",
   "id": "be949c8c",
   "metadata": {},
   "source": [
    "# 9. References\n",
    "<a id=\"1\">[1]</a> https://www.kaggle.com/datasets/lakshmi25npathi/online-retail-dataset/data\n",
    "\n",
    "\n",
    "<a id=\"2\">[2]</a> Harvard Business Review, June 7, 2024.  From the article, “Research: Smaller, More Precise Discounts Could Increase Your Sale"
   ]
  }
 ],
 "metadata": {
  "kernelspec": {
   "display_name": "Python 3",
   "language": "python",
   "name": "python3"
  },
  "language_info": {
   "codemirror_mode": {
    "name": "ipython",
    "version": 3
   },
   "file_extension": ".py",
   "mimetype": "text/x-python",
   "name": "python",
   "nbconvert_exporter": "python",
   "pygments_lexer": "ipython3",
   "version": "3.11.9"
  }
 },
 "nbformat": 4,
 "nbformat_minor": 5
}
