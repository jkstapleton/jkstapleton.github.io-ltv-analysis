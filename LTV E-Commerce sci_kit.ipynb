{
 "cells": [
  {
   "cell_type": "markdown",
   "metadata": {},
   "source": [
    "# Customer Churn and Revenue Prediction Model\n",
    "\n",
    "## 1. Purpose\n",
    "\n",
    "This model is designed to:\n",
    "\n",
    "- Identify which customers are likely to churn over the next quarter in order to enable a targeted and tailored marketing campaigns to prevent the customer churning.\n",
    "\n",
    "### Importance of Churn Prevention\n",
    "\n",
    "Customer churn represents a significant cost to businesses — not only through lost revenue but also through the increased expense of acquiring new customers. This model helps mitigate churn by predicting which customers are at risk of not purchasing within the next quarter- which will be used as the definition of churned.\n",
    "\n",
    "With this insight, marketing can automate targetted discount on products which the customer has previously purchase to improve retention rates. Additionally, the model estimates each customer’s expected spend over the same period, enhancing the cost-effectiveness of customer retention efforts.\n",
    "\n",
    "### Model Development & Approach\n",
    "\n",
    "The model was built using transactional data from a UK-based e-commerce store and follows a two-stage regression approach:\n",
    "\n",
    "1. **Churn Prediction (Logistic Regression)**  \n",
    "   Estimates the probability of a customer churning within the next three months.\n",
    "\n",
    "2. **Future Spend Prediction (Linear Regression)**  \n",
    "   For customers predicted to remain active, forecasts their total spending over the same period.\n",
    "\n",
    "Currently, the model uses **Recency, Frequency, and Monetary (RFM)** features for its predictions. Future iterations will incorporate additional features following the initial deployment.\n",
    "\n",
    "By leveraging this model, the marketing team can better identify high-value customers at risk of churning and \"save them\"."
   ]
  },
  {
   "cell_type": "markdown",
   "metadata": {},
   "source": [
    "# Establishing the Environment/ Loading the data\n",
    "Sci Kit learn will be the package used for the ML modelling and SeaBorne, Matplotlib for the graphing. "
   ]
  },
  {
   "cell_type": "code",
   "execution_count": 1,
   "metadata": {},
   "outputs": [],
   "source": [
    "import pandas as pd\n",
    "import seaborn as sns\n",
    "import matplotlib.pyplot as plt\n",
    "import numpy as np\n",
    "import sklearn\n",
    "import dataframe_image as dfi\n",
    "from sklearn.model_selection import train_test_split\n",
    "from sklearn.linear_model import LinearRegression\n",
    "from sklearn.linear_model import LogisticRegression\n",
    "from sklearn.metrics import mean_squared_error\n",
    "from datetime import datetime\n",
    "from dateutil.relativedelta import relativedelta\n",
    "from scipy import stats\n",
    "from sklearn.metrics import confusion_matrix\n",
    "from sklearn.metrics import classification_report\n"
   ]
  },
  {
   "cell_type": "markdown",
   "metadata": {},
   "source": [
    "### Loading data \n",
    "The transactional data used for the model is from 01/12/2010 and 09/12/2011 and is from a UK-based and registered non-store online retailer. The company mainly sells unique all-occasion gifts. Many customers of the company are wholesalers."
   ]
  },
  {
   "cell_type": "code",
   "execution_count": 2,
   "metadata": {},
   "outputs": [
    {
     "data": {
      "text/html": [
       "<div>\n",
       "<style scoped>\n",
       "    .dataframe tbody tr th:only-of-type {\n",
       "        vertical-align: middle;\n",
       "    }\n",
       "\n",
       "    .dataframe tbody tr th {\n",
       "        vertical-align: top;\n",
       "    }\n",
       "\n",
       "    .dataframe thead th {\n",
       "        text-align: right;\n",
       "    }\n",
       "</style>\n",
       "<table border=\"1\" class=\"dataframe\">\n",
       "  <thead>\n",
       "    <tr style=\"text-align: right;\">\n",
       "      <th></th>\n",
       "      <th>InvoiceNo</th>\n",
       "      <th>StockCode</th>\n",
       "      <th>Description</th>\n",
       "      <th>Quantity</th>\n",
       "      <th>InvoiceDate</th>\n",
       "      <th>UnitPrice</th>\n",
       "      <th>CustomerID</th>\n",
       "      <th>Country</th>\n",
       "    </tr>\n",
       "  </thead>\n",
       "  <tbody>\n",
       "    <tr>\n",
       "      <th>0</th>\n",
       "      <td>536365</td>\n",
       "      <td>85123A</td>\n",
       "      <td>WHITE HANGING HEART T-LIGHT HOLDER</td>\n",
       "      <td>6</td>\n",
       "      <td>12/01/2010 8:26</td>\n",
       "      <td>2.55</td>\n",
       "      <td>17850.0</td>\n",
       "      <td>United Kingdom</td>\n",
       "    </tr>\n",
       "    <tr>\n",
       "      <th>1</th>\n",
       "      <td>536365</td>\n",
       "      <td>71053</td>\n",
       "      <td>WHITE METAL LANTERN</td>\n",
       "      <td>6</td>\n",
       "      <td>12/01/2010 8:26</td>\n",
       "      <td>3.39</td>\n",
       "      <td>17850.0</td>\n",
       "      <td>United Kingdom</td>\n",
       "    </tr>\n",
       "    <tr>\n",
       "      <th>2</th>\n",
       "      <td>536365</td>\n",
       "      <td>84406B</td>\n",
       "      <td>CREAM CUPID HEARTS COAT HANGER</td>\n",
       "      <td>8</td>\n",
       "      <td>12/01/2010 8:26</td>\n",
       "      <td>2.75</td>\n",
       "      <td>17850.0</td>\n",
       "      <td>United Kingdom</td>\n",
       "    </tr>\n",
       "    <tr>\n",
       "      <th>3</th>\n",
       "      <td>536365</td>\n",
       "      <td>84029G</td>\n",
       "      <td>KNITTED UNION FLAG HOT WATER BOTTLE</td>\n",
       "      <td>6</td>\n",
       "      <td>12/01/2010 8:26</td>\n",
       "      <td>3.39</td>\n",
       "      <td>17850.0</td>\n",
       "      <td>United Kingdom</td>\n",
       "    </tr>\n",
       "    <tr>\n",
       "      <th>4</th>\n",
       "      <td>536365</td>\n",
       "      <td>84029E</td>\n",
       "      <td>RED WOOLLY HOTTIE WHITE HEART.</td>\n",
       "      <td>6</td>\n",
       "      <td>12/01/2010 8:26</td>\n",
       "      <td>3.39</td>\n",
       "      <td>17850.0</td>\n",
       "      <td>United Kingdom</td>\n",
       "    </tr>\n",
       "  </tbody>\n",
       "</table>\n",
       "</div>"
      ],
      "text/plain": [
       "  InvoiceNo StockCode                          Description  Quantity  \\\n",
       "0    536365    85123A   WHITE HANGING HEART T-LIGHT HOLDER         6   \n",
       "1    536365     71053                  WHITE METAL LANTERN         6   \n",
       "2    536365    84406B       CREAM CUPID HEARTS COAT HANGER         8   \n",
       "3    536365    84029G  KNITTED UNION FLAG HOT WATER BOTTLE         6   \n",
       "4    536365    84029E       RED WOOLLY HOTTIE WHITE HEART.         6   \n",
       "\n",
       "       InvoiceDate  UnitPrice  CustomerID         Country  \n",
       "0  12/01/2010 8:26       2.55     17850.0  United Kingdom  \n",
       "1  12/01/2010 8:26       3.39     17850.0  United Kingdom  \n",
       "2  12/01/2010 8:26       2.75     17850.0  United Kingdom  \n",
       "3  12/01/2010 8:26       3.39     17850.0  United Kingdom  \n",
       "4  12/01/2010 8:26       3.39     17850.0  United Kingdom  "
      ]
     },
     "execution_count": 2,
     "metadata": {},
     "output_type": "execute_result"
    }
   ],
   "source": [
    "transactions = pd.read_csv('Ecommerce_data.csv', encoding='latin')\n",
    "transactions.head()\n"
   ]
  },
  {
   "cell_type": "markdown",
   "metadata": {},
   "source": [
    "# 3. Data Exploration / cleaning \n",
    "Intial analysis to understand the quality of the data and the current patterns of transactions"
   ]
  },
  {
   "cell_type": "code",
   "execution_count": 3,
   "metadata": {},
   "outputs": [
    {
     "data": {
      "text/plain": [
       "InvoiceNo       object\n",
       "StockCode       object\n",
       "Description     object\n",
       "Quantity         int64\n",
       "InvoiceDate     object\n",
       "UnitPrice      float64\n",
       "CustomerID     float64\n",
       "Country         object\n",
       "dtype: object"
      ]
     },
     "execution_count": 3,
     "metadata": {},
     "output_type": "execute_result"
    }
   ],
   "source": [
    "transactions.dtypes"
   ]
  },
  {
   "cell_type": "code",
   "execution_count": 4,
   "metadata": {},
   "outputs": [
    {
     "name": "stdout",
     "output_type": "stream",
     "text": [
      "4335272\n",
      "3183072\n",
      "2010-12-01 08:26:00\n",
      "2011-12-09 12:50:00\n"
     ]
    },
    {
     "data": {
      "text/html": [
       "<div>\n",
       "<style scoped>\n",
       "    .dataframe tbody tr th:only-of-type {\n",
       "        vertical-align: middle;\n",
       "    }\n",
       "\n",
       "    .dataframe tbody tr th {\n",
       "        vertical-align: top;\n",
       "    }\n",
       "\n",
       "    .dataframe thead th {\n",
       "        text-align: right;\n",
       "    }\n",
       "</style>\n",
       "<table border=\"1\" class=\"dataframe\">\n",
       "  <thead>\n",
       "    <tr style=\"text-align: right;\">\n",
       "      <th></th>\n",
       "      <th>InvoiceNo</th>\n",
       "      <th>StockCode</th>\n",
       "      <th>Description</th>\n",
       "      <th>Quantity</th>\n",
       "      <th>InvoiceDate</th>\n",
       "      <th>UnitPrice</th>\n",
       "      <th>CustomerID</th>\n",
       "      <th>Country</th>\n",
       "      <th>month</th>\n",
       "      <th>year</th>\n",
       "    </tr>\n",
       "  </thead>\n",
       "  <tbody>\n",
       "    <tr>\n",
       "      <th>0</th>\n",
       "      <td>536365</td>\n",
       "      <td>85123A</td>\n",
       "      <td>WHITE HANGING HEART T-LIGHT HOLDER</td>\n",
       "      <td>6</td>\n",
       "      <td>2010-12-01 08:26:00</td>\n",
       "      <td>2.55</td>\n",
       "      <td>17850.0</td>\n",
       "      <td>United Kingdom</td>\n",
       "      <td>12</td>\n",
       "      <td>2010</td>\n",
       "    </tr>\n",
       "    <tr>\n",
       "      <th>1</th>\n",
       "      <td>536365</td>\n",
       "      <td>71053</td>\n",
       "      <td>WHITE METAL LANTERN</td>\n",
       "      <td>6</td>\n",
       "      <td>2010-12-01 08:26:00</td>\n",
       "      <td>3.39</td>\n",
       "      <td>17850.0</td>\n",
       "      <td>United Kingdom</td>\n",
       "      <td>12</td>\n",
       "      <td>2010</td>\n",
       "    </tr>\n",
       "    <tr>\n",
       "      <th>2</th>\n",
       "      <td>536365</td>\n",
       "      <td>84406B</td>\n",
       "      <td>CREAM CUPID HEARTS COAT HANGER</td>\n",
       "      <td>8</td>\n",
       "      <td>2010-12-01 08:26:00</td>\n",
       "      <td>2.75</td>\n",
       "      <td>17850.0</td>\n",
       "      <td>United Kingdom</td>\n",
       "      <td>12</td>\n",
       "      <td>2010</td>\n",
       "    </tr>\n",
       "    <tr>\n",
       "      <th>3</th>\n",
       "      <td>536365</td>\n",
       "      <td>84029G</td>\n",
       "      <td>KNITTED UNION FLAG HOT WATER BOTTLE</td>\n",
       "      <td>6</td>\n",
       "      <td>2010-12-01 08:26:00</td>\n",
       "      <td>3.39</td>\n",
       "      <td>17850.0</td>\n",
       "      <td>United Kingdom</td>\n",
       "      <td>12</td>\n",
       "      <td>2010</td>\n",
       "    </tr>\n",
       "    <tr>\n",
       "      <th>4</th>\n",
       "      <td>536365</td>\n",
       "      <td>84029E</td>\n",
       "      <td>RED WOOLLY HOTTIE WHITE HEART.</td>\n",
       "      <td>6</td>\n",
       "      <td>2010-12-01 08:26:00</td>\n",
       "      <td>3.39</td>\n",
       "      <td>17850.0</td>\n",
       "      <td>United Kingdom</td>\n",
       "      <td>12</td>\n",
       "      <td>2010</td>\n",
       "    </tr>\n",
       "  </tbody>\n",
       "</table>\n",
       "</div>"
      ],
      "text/plain": [
       "  InvoiceNo StockCode                          Description  Quantity  \\\n",
       "0    536365    85123A   WHITE HANGING HEART T-LIGHT HOLDER         6   \n",
       "1    536365     71053                  WHITE METAL LANTERN         6   \n",
       "2    536365    84406B       CREAM CUPID HEARTS COAT HANGER         8   \n",
       "3    536365    84029G  KNITTED UNION FLAG HOT WATER BOTTLE         6   \n",
       "4    536365    84029E       RED WOOLLY HOTTIE WHITE HEART.         6   \n",
       "\n",
       "          InvoiceDate  UnitPrice  CustomerID         Country  month  year  \n",
       "0 2010-12-01 08:26:00       2.55     17850.0  United Kingdom     12  2010  \n",
       "1 2010-12-01 08:26:00       3.39     17850.0  United Kingdom     12  2010  \n",
       "2 2010-12-01 08:26:00       2.75     17850.0  United Kingdom     12  2010  \n",
       "3 2010-12-01 08:26:00       3.39     17850.0  United Kingdom     12  2010  \n",
       "4 2010-12-01 08:26:00       3.39     17850.0  United Kingdom     12  2010  "
      ]
     },
     "execution_count": 4,
     "metadata": {},
     "output_type": "execute_result"
    }
   ],
   "source": [
    "\n",
    "# Filtering any abnormal entries\n",
    "print(transactions.size)\n",
    "transactions=transactions.loc[transactions['UnitPrice']>0]\n",
    "transactions=transactions.loc[transactions['Quantity']>0]\n",
    "transactions=transactions.loc[transactions['CustomerID'].notnull()]\n",
    "\n",
    "\n",
    "\n",
    "print(transactions.size)\n",
    "\n",
    "\n",
    "\n",
    "# formatting the date column\n",
    "transactions['InvoiceDate']=pd.to_datetime(transactions['InvoiceDate'])\n",
    "transactions['month'] = transactions['InvoiceDate'].dt.month\n",
    "transactions['year'] = transactions['InvoiceDate'].dt.year\n",
    "\n",
    "\n",
    "\n",
    "# Time of transation is betewwn 2010-12 to 2011-12\n",
    "transactions['InvoiceDate']=pd.to_datetime(transactions['InvoiceDate'])\n",
    "print(transactions['InvoiceDate'].min())\n",
    "print(transactions['InvoiceDate'].max())\n",
    "\n",
    "transactions.head()"
   ]
  },
  {
   "cell_type": "code",
   "execution_count": 5,
   "metadata": {},
   "outputs": [
    {
     "data": {
      "text/html": [
       "<div>\n",
       "<style scoped>\n",
       "    .dataframe tbody tr th:only-of-type {\n",
       "        vertical-align: middle;\n",
       "    }\n",
       "\n",
       "    .dataframe tbody tr th {\n",
       "        vertical-align: top;\n",
       "    }\n",
       "\n",
       "    .dataframe thead th {\n",
       "        text-align: right;\n",
       "    }\n",
       "</style>\n",
       "<table border=\"1\" class=\"dataframe\">\n",
       "  <thead>\n",
       "    <tr style=\"text-align: right;\">\n",
       "      <th></th>\n",
       "      <th>InvoiceNo</th>\n",
       "      <th>StockCode</th>\n",
       "      <th>Description</th>\n",
       "      <th>Quantity</th>\n",
       "      <th>InvoiceDate</th>\n",
       "      <th>UnitPrice</th>\n",
       "      <th>CustomerID</th>\n",
       "      <th>Country</th>\n",
       "      <th>month</th>\n",
       "      <th>year</th>\n",
       "    </tr>\n",
       "  </thead>\n",
       "  <tbody>\n",
       "    <tr>\n",
       "      <th>34083</th>\n",
       "      <td>539318</td>\n",
       "      <td>84992</td>\n",
       "      <td>72 SWEETHEART FAIRY CAKE CASES</td>\n",
       "      <td>72</td>\n",
       "      <td>2010-12-16 19:09:00</td>\n",
       "      <td>0.55</td>\n",
       "      <td>12348.0</td>\n",
       "      <td>Finland</td>\n",
       "      <td>12</td>\n",
       "      <td>2010</td>\n",
       "    </tr>\n",
       "    <tr>\n",
       "      <th>34084</th>\n",
       "      <td>539318</td>\n",
       "      <td>22951</td>\n",
       "      <td>60 CAKE CASES DOLLY GIRL DESIGN</td>\n",
       "      <td>72</td>\n",
       "      <td>2010-12-16 19:09:00</td>\n",
       "      <td>0.55</td>\n",
       "      <td>12348.0</td>\n",
       "      <td>Finland</td>\n",
       "      <td>12</td>\n",
       "      <td>2010</td>\n",
       "    </tr>\n",
       "    <tr>\n",
       "      <th>34085</th>\n",
       "      <td>539318</td>\n",
       "      <td>84991</td>\n",
       "      <td>60 TEATIME FAIRY CAKE CASES</td>\n",
       "      <td>24</td>\n",
       "      <td>2010-12-16 19:09:00</td>\n",
       "      <td>0.55</td>\n",
       "      <td>12348.0</td>\n",
       "      <td>Finland</td>\n",
       "      <td>12</td>\n",
       "      <td>2010</td>\n",
       "    </tr>\n",
       "    <tr>\n",
       "      <th>34086</th>\n",
       "      <td>539318</td>\n",
       "      <td>84991</td>\n",
       "      <td>60 TEATIME FAIRY CAKE CASES</td>\n",
       "      <td>120</td>\n",
       "      <td>2010-12-16 19:09:00</td>\n",
       "      <td>0.42</td>\n",
       "      <td>12348.0</td>\n",
       "      <td>Finland</td>\n",
       "      <td>12</td>\n",
       "      <td>2010</td>\n",
       "    </tr>\n",
       "    <tr>\n",
       "      <th>34087</th>\n",
       "      <td>539318</td>\n",
       "      <td>21213</td>\n",
       "      <td>PACK OF 72 SKULL CAKE CASES</td>\n",
       "      <td>24</td>\n",
       "      <td>2010-12-16 19:09:00</td>\n",
       "      <td>0.55</td>\n",
       "      <td>12348.0</td>\n",
       "      <td>Finland</td>\n",
       "      <td>12</td>\n",
       "      <td>2010</td>\n",
       "    </tr>\n",
       "    <tr>\n",
       "      <th>34088</th>\n",
       "      <td>539318</td>\n",
       "      <td>21213</td>\n",
       "      <td>PACK OF 72 SKULL CAKE CASES</td>\n",
       "      <td>120</td>\n",
       "      <td>2010-12-16 19:09:00</td>\n",
       "      <td>0.42</td>\n",
       "      <td>12348.0</td>\n",
       "      <td>Finland</td>\n",
       "      <td>12</td>\n",
       "      <td>2010</td>\n",
       "    </tr>\n",
       "    <tr>\n",
       "      <th>34089</th>\n",
       "      <td>539318</td>\n",
       "      <td>22616</td>\n",
       "      <td>PACK OF 12 LONDON TISSUES</td>\n",
       "      <td>72</td>\n",
       "      <td>2010-12-16 19:09:00</td>\n",
       "      <td>0.29</td>\n",
       "      <td>12348.0</td>\n",
       "      <td>Finland</td>\n",
       "      <td>12</td>\n",
       "      <td>2010</td>\n",
       "    </tr>\n",
       "    <tr>\n",
       "      <th>34090</th>\n",
       "      <td>539318</td>\n",
       "      <td>21981</td>\n",
       "      <td>PACK OF 12 WOODLAND TISSUES</td>\n",
       "      <td>144</td>\n",
       "      <td>2010-12-16 19:09:00</td>\n",
       "      <td>0.29</td>\n",
       "      <td>12348.0</td>\n",
       "      <td>Finland</td>\n",
       "      <td>12</td>\n",
       "      <td>2010</td>\n",
       "    </tr>\n",
       "    <tr>\n",
       "      <th>34091</th>\n",
       "      <td>539318</td>\n",
       "      <td>21982</td>\n",
       "      <td>PACK OF 12 SUKI TISSUES</td>\n",
       "      <td>144</td>\n",
       "      <td>2010-12-16 19:09:00</td>\n",
       "      <td>0.29</td>\n",
       "      <td>12348.0</td>\n",
       "      <td>Finland</td>\n",
       "      <td>12</td>\n",
       "      <td>2010</td>\n",
       "    </tr>\n",
       "    <tr>\n",
       "      <th>34092</th>\n",
       "      <td>539318</td>\n",
       "      <td>21725</td>\n",
       "      <td>SWEETIES  STICKERS</td>\n",
       "      <td>48</td>\n",
       "      <td>2010-12-16 19:09:00</td>\n",
       "      <td>0.85</td>\n",
       "      <td>12348.0</td>\n",
       "      <td>Finland</td>\n",
       "      <td>12</td>\n",
       "      <td>2010</td>\n",
       "    </tr>\n",
       "    <tr>\n",
       "      <th>34093</th>\n",
       "      <td>539318</td>\n",
       "      <td>21211</td>\n",
       "      <td>SET OF 72 SKULL PAPER  DOILIES</td>\n",
       "      <td>72</td>\n",
       "      <td>2010-12-16 19:09:00</td>\n",
       "      <td>1.45</td>\n",
       "      <td>12348.0</td>\n",
       "      <td>Finland</td>\n",
       "      <td>12</td>\n",
       "      <td>2010</td>\n",
       "    </tr>\n",
       "    <tr>\n",
       "      <th>34094</th>\n",
       "      <td>539318</td>\n",
       "      <td>84988</td>\n",
       "      <td>SET OF 72 PINK HEART PAPER DOILIES</td>\n",
       "      <td>48</td>\n",
       "      <td>2010-12-16 19:09:00</td>\n",
       "      <td>1.45</td>\n",
       "      <td>12348.0</td>\n",
       "      <td>Finland</td>\n",
       "      <td>12</td>\n",
       "      <td>2010</td>\n",
       "    </tr>\n",
       "    <tr>\n",
       "      <th>34095</th>\n",
       "      <td>539318</td>\n",
       "      <td>22952</td>\n",
       "      <td>60 CAKE CASES VINTAGE CHRISTMAS</td>\n",
       "      <td>24</td>\n",
       "      <td>2010-12-16 19:09:00</td>\n",
       "      <td>0.55</td>\n",
       "      <td>12348.0</td>\n",
       "      <td>Finland</td>\n",
       "      <td>12</td>\n",
       "      <td>2010</td>\n",
       "    </tr>\n",
       "    <tr>\n",
       "      <th>34096</th>\n",
       "      <td>539318</td>\n",
       "      <td>22952</td>\n",
       "      <td>60 CAKE CASES VINTAGE CHRISTMAS</td>\n",
       "      <td>120</td>\n",
       "      <td>2010-12-16 19:09:00</td>\n",
       "      <td>0.42</td>\n",
       "      <td>12348.0</td>\n",
       "      <td>Finland</td>\n",
       "      <td>12</td>\n",
       "      <td>2010</td>\n",
       "    </tr>\n",
       "    <tr>\n",
       "      <th>34097</th>\n",
       "      <td>539318</td>\n",
       "      <td>21977</td>\n",
       "      <td>PACK OF 60 PINK PAISLEY CAKE CASES</td>\n",
       "      <td>24</td>\n",
       "      <td>2010-12-16 19:09:00</td>\n",
       "      <td>0.55</td>\n",
       "      <td>12348.0</td>\n",
       "      <td>Finland</td>\n",
       "      <td>12</td>\n",
       "      <td>2010</td>\n",
       "    </tr>\n",
       "    <tr>\n",
       "      <th>34098</th>\n",
       "      <td>539318</td>\n",
       "      <td>21977</td>\n",
       "      <td>PACK OF 60 PINK PAISLEY CAKE CASES</td>\n",
       "      <td>120</td>\n",
       "      <td>2010-12-16 19:09:00</td>\n",
       "      <td>0.42</td>\n",
       "      <td>12348.0</td>\n",
       "      <td>Finland</td>\n",
       "      <td>12</td>\n",
       "      <td>2010</td>\n",
       "    </tr>\n",
       "    <tr>\n",
       "      <th>34099</th>\n",
       "      <td>539318</td>\n",
       "      <td>POST</td>\n",
       "      <td>POSTAGE</td>\n",
       "      <td>6</td>\n",
       "      <td>2010-12-16 19:09:00</td>\n",
       "      <td>40.00</td>\n",
       "      <td>12348.0</td>\n",
       "      <td>Finland</td>\n",
       "      <td>12</td>\n",
       "      <td>2010</td>\n",
       "    </tr>\n",
       "    <tr>\n",
       "      <th>70051</th>\n",
       "      <td>541998</td>\n",
       "      <td>21980</td>\n",
       "      <td>PACK OF 12 RED RETROSPOT TISSUES</td>\n",
       "      <td>144</td>\n",
       "      <td>2011-01-25 10:42:00</td>\n",
       "      <td>0.29</td>\n",
       "      <td>12348.0</td>\n",
       "      <td>Finland</td>\n",
       "      <td>1</td>\n",
       "      <td>2011</td>\n",
       "    </tr>\n",
       "    <tr>\n",
       "      <th>70052</th>\n",
       "      <td>541998</td>\n",
       "      <td>21985</td>\n",
       "      <td>PACK OF 12 HEARTS DESIGN TISSUES</td>\n",
       "      <td>144</td>\n",
       "      <td>2011-01-25 10:42:00</td>\n",
       "      <td>0.29</td>\n",
       "      <td>12348.0</td>\n",
       "      <td>Finland</td>\n",
       "      <td>1</td>\n",
       "      <td>2011</td>\n",
       "    </tr>\n",
       "    <tr>\n",
       "      <th>70053</th>\n",
       "      <td>541998</td>\n",
       "      <td>21726</td>\n",
       "      <td>MULTI HEARTS  STICKERS</td>\n",
       "      <td>24</td>\n",
       "      <td>2011-01-25 10:42:00</td>\n",
       "      <td>0.85</td>\n",
       "      <td>12348.0</td>\n",
       "      <td>Finland</td>\n",
       "      <td>1</td>\n",
       "      <td>2011</td>\n",
       "    </tr>\n",
       "    <tr>\n",
       "      <th>70054</th>\n",
       "      <td>541998</td>\n",
       "      <td>21983</td>\n",
       "      <td>PACK OF 12 BLUE PAISLEY TISSUES</td>\n",
       "      <td>144</td>\n",
       "      <td>2011-01-25 10:42:00</td>\n",
       "      <td>0.29</td>\n",
       "      <td>12348.0</td>\n",
       "      <td>Finland</td>\n",
       "      <td>1</td>\n",
       "      <td>2011</td>\n",
       "    </tr>\n",
       "    <tr>\n",
       "      <th>70055</th>\n",
       "      <td>541998</td>\n",
       "      <td>21967</td>\n",
       "      <td>PACK OF 12 SKULL TISSUES</td>\n",
       "      <td>144</td>\n",
       "      <td>2011-01-25 10:42:00</td>\n",
       "      <td>0.29</td>\n",
       "      <td>12348.0</td>\n",
       "      <td>Finland</td>\n",
       "      <td>1</td>\n",
       "      <td>2011</td>\n",
       "    </tr>\n",
       "    <tr>\n",
       "      <th>70056</th>\n",
       "      <td>541998</td>\n",
       "      <td>POST</td>\n",
       "      <td>POSTAGE</td>\n",
       "      <td>1</td>\n",
       "      <td>2011-01-25 10:42:00</td>\n",
       "      <td>40.00</td>\n",
       "      <td>12348.0</td>\n",
       "      <td>Finland</td>\n",
       "      <td>1</td>\n",
       "      <td>2011</td>\n",
       "    </tr>\n",
       "    <tr>\n",
       "      <th>146013</th>\n",
       "      <td>548955</td>\n",
       "      <td>23077</td>\n",
       "      <td>DOUGHNUT LIP GLOSS</td>\n",
       "      <td>80</td>\n",
       "      <td>2011-04-05 10:47:00</td>\n",
       "      <td>1.25</td>\n",
       "      <td>12348.0</td>\n",
       "      <td>Finland</td>\n",
       "      <td>4</td>\n",
       "      <td>2011</td>\n",
       "    </tr>\n",
       "    <tr>\n",
       "      <th>146014</th>\n",
       "      <td>548955</td>\n",
       "      <td>23078</td>\n",
       "      <td>ICE CREAM PEN LIP GLOSS</td>\n",
       "      <td>96</td>\n",
       "      <td>2011-04-05 10:47:00</td>\n",
       "      <td>1.25</td>\n",
       "      <td>12348.0</td>\n",
       "      <td>Finland</td>\n",
       "      <td>4</td>\n",
       "      <td>2011</td>\n",
       "    </tr>\n",
       "    <tr>\n",
       "      <th>146015</th>\n",
       "      <td>548955</td>\n",
       "      <td>23076</td>\n",
       "      <td>ICE CREAM SUNDAE LIP GLOSS</td>\n",
       "      <td>72</td>\n",
       "      <td>2011-04-05 10:47:00</td>\n",
       "      <td>1.25</td>\n",
       "      <td>12348.0</td>\n",
       "      <td>Finland</td>\n",
       "      <td>4</td>\n",
       "      <td>2011</td>\n",
       "    </tr>\n",
       "    <tr>\n",
       "      <th>146016</th>\n",
       "      <td>548955</td>\n",
       "      <td>22437</td>\n",
       "      <td>SET OF 9 BLACK SKULL BALLOONS</td>\n",
       "      <td>20</td>\n",
       "      <td>2011-04-05 10:47:00</td>\n",
       "      <td>0.85</td>\n",
       "      <td>12348.0</td>\n",
       "      <td>Finland</td>\n",
       "      <td>4</td>\n",
       "      <td>2011</td>\n",
       "    </tr>\n",
       "    <tr>\n",
       "      <th>146017</th>\n",
       "      <td>548955</td>\n",
       "      <td>POST</td>\n",
       "      <td>POSTAGE</td>\n",
       "      <td>1</td>\n",
       "      <td>2011-04-05 10:47:00</td>\n",
       "      <td>40.00</td>\n",
       "      <td>12348.0</td>\n",
       "      <td>Finland</td>\n",
       "      <td>4</td>\n",
       "      <td>2011</td>\n",
       "    </tr>\n",
       "    <tr>\n",
       "      <th>359058</th>\n",
       "      <td>568172</td>\n",
       "      <td>23077</td>\n",
       "      <td>DOUGHNUT LIP GLOSS</td>\n",
       "      <td>120</td>\n",
       "      <td>2011-09-25 13:13:00</td>\n",
       "      <td>1.25</td>\n",
       "      <td>12348.0</td>\n",
       "      <td>Finland</td>\n",
       "      <td>9</td>\n",
       "      <td>2011</td>\n",
       "    </tr>\n",
       "    <tr>\n",
       "      <th>359059</th>\n",
       "      <td>568172</td>\n",
       "      <td>23078</td>\n",
       "      <td>ICE CREAM PEN LIP GLOSS</td>\n",
       "      <td>96</td>\n",
       "      <td>2011-09-25 13:13:00</td>\n",
       "      <td>1.25</td>\n",
       "      <td>12348.0</td>\n",
       "      <td>Finland</td>\n",
       "      <td>9</td>\n",
       "      <td>2011</td>\n",
       "    </tr>\n",
       "    <tr>\n",
       "      <th>359060</th>\n",
       "      <td>568172</td>\n",
       "      <td>POST</td>\n",
       "      <td>POSTAGE</td>\n",
       "      <td>1</td>\n",
       "      <td>2011-09-25 13:13:00</td>\n",
       "      <td>40.00</td>\n",
       "      <td>12348.0</td>\n",
       "      <td>Finland</td>\n",
       "      <td>9</td>\n",
       "      <td>2011</td>\n",
       "    </tr>\n",
       "  </tbody>\n",
       "</table>\n",
       "</div>"
      ],
      "text/plain": [
       "       InvoiceNo StockCode                         Description  Quantity  \\\n",
       "34083     539318     84992      72 SWEETHEART FAIRY CAKE CASES        72   \n",
       "34084     539318     22951     60 CAKE CASES DOLLY GIRL DESIGN        72   \n",
       "34085     539318     84991         60 TEATIME FAIRY CAKE CASES        24   \n",
       "34086     539318     84991         60 TEATIME FAIRY CAKE CASES       120   \n",
       "34087     539318     21213         PACK OF 72 SKULL CAKE CASES        24   \n",
       "34088     539318     21213         PACK OF 72 SKULL CAKE CASES       120   \n",
       "34089     539318     22616          PACK OF 12 LONDON TISSUES         72   \n",
       "34090     539318     21981        PACK OF 12 WOODLAND TISSUES        144   \n",
       "34091     539318     21982            PACK OF 12 SUKI TISSUES        144   \n",
       "34092     539318     21725                  SWEETIES  STICKERS        48   \n",
       "34093     539318     21211      SET OF 72 SKULL PAPER  DOILIES        72   \n",
       "34094     539318     84988  SET OF 72 PINK HEART PAPER DOILIES        48   \n",
       "34095     539318     22952     60 CAKE CASES VINTAGE CHRISTMAS        24   \n",
       "34096     539318     22952     60 CAKE CASES VINTAGE CHRISTMAS       120   \n",
       "34097     539318     21977  PACK OF 60 PINK PAISLEY CAKE CASES        24   \n",
       "34098     539318     21977  PACK OF 60 PINK PAISLEY CAKE CASES       120   \n",
       "34099     539318      POST                             POSTAGE         6   \n",
       "70051     541998     21980   PACK OF 12 RED RETROSPOT TISSUES        144   \n",
       "70052     541998     21985   PACK OF 12 HEARTS DESIGN TISSUES        144   \n",
       "70053     541998     21726              MULTI HEARTS  STICKERS        24   \n",
       "70054     541998     21983    PACK OF 12 BLUE PAISLEY TISSUES        144   \n",
       "70055     541998     21967            PACK OF 12 SKULL TISSUES       144   \n",
       "70056     541998      POST                             POSTAGE         1   \n",
       "146013    548955     23077                 DOUGHNUT LIP GLOSS         80   \n",
       "146014    548955     23078            ICE CREAM PEN LIP GLOSS         96   \n",
       "146015    548955     23076          ICE CREAM SUNDAE LIP GLOSS        72   \n",
       "146016    548955     22437       SET OF 9 BLACK SKULL BALLOONS        20   \n",
       "146017    548955      POST                             POSTAGE         1   \n",
       "359058    568172     23077                 DOUGHNUT LIP GLOSS        120   \n",
       "359059    568172     23078            ICE CREAM PEN LIP GLOSS         96   \n",
       "359060    568172      POST                             POSTAGE         1   \n",
       "\n",
       "               InvoiceDate  UnitPrice  CustomerID  Country  month  year  \n",
       "34083  2010-12-16 19:09:00       0.55     12348.0  Finland     12  2010  \n",
       "34084  2010-12-16 19:09:00       0.55     12348.0  Finland     12  2010  \n",
       "34085  2010-12-16 19:09:00       0.55     12348.0  Finland     12  2010  \n",
       "34086  2010-12-16 19:09:00       0.42     12348.0  Finland     12  2010  \n",
       "34087  2010-12-16 19:09:00       0.55     12348.0  Finland     12  2010  \n",
       "34088  2010-12-16 19:09:00       0.42     12348.0  Finland     12  2010  \n",
       "34089  2010-12-16 19:09:00       0.29     12348.0  Finland     12  2010  \n",
       "34090  2010-12-16 19:09:00       0.29     12348.0  Finland     12  2010  \n",
       "34091  2010-12-16 19:09:00       0.29     12348.0  Finland     12  2010  \n",
       "34092  2010-12-16 19:09:00       0.85     12348.0  Finland     12  2010  \n",
       "34093  2010-12-16 19:09:00       1.45     12348.0  Finland     12  2010  \n",
       "34094  2010-12-16 19:09:00       1.45     12348.0  Finland     12  2010  \n",
       "34095  2010-12-16 19:09:00       0.55     12348.0  Finland     12  2010  \n",
       "34096  2010-12-16 19:09:00       0.42     12348.0  Finland     12  2010  \n",
       "34097  2010-12-16 19:09:00       0.55     12348.0  Finland     12  2010  \n",
       "34098  2010-12-16 19:09:00       0.42     12348.0  Finland     12  2010  \n",
       "34099  2010-12-16 19:09:00      40.00     12348.0  Finland     12  2010  \n",
       "70051  2011-01-25 10:42:00       0.29     12348.0  Finland      1  2011  \n",
       "70052  2011-01-25 10:42:00       0.29     12348.0  Finland      1  2011  \n",
       "70053  2011-01-25 10:42:00       0.85     12348.0  Finland      1  2011  \n",
       "70054  2011-01-25 10:42:00       0.29     12348.0  Finland      1  2011  \n",
       "70055  2011-01-25 10:42:00       0.29     12348.0  Finland      1  2011  \n",
       "70056  2011-01-25 10:42:00      40.00     12348.0  Finland      1  2011  \n",
       "146013 2011-04-05 10:47:00       1.25     12348.0  Finland      4  2011  \n",
       "146014 2011-04-05 10:47:00       1.25     12348.0  Finland      4  2011  \n",
       "146015 2011-04-05 10:47:00       1.25     12348.0  Finland      4  2011  \n",
       "146016 2011-04-05 10:47:00       0.85     12348.0  Finland      4  2011  \n",
       "146017 2011-04-05 10:47:00      40.00     12348.0  Finland      4  2011  \n",
       "359058 2011-09-25 13:13:00       1.25     12348.0  Finland      9  2011  \n",
       "359059 2011-09-25 13:13:00       1.25     12348.0  Finland      9  2011  \n",
       "359060 2011-09-25 13:13:00      40.00     12348.0  Finland      9  2011  "
      ]
     },
     "execution_count": 5,
     "metadata": {},
     "output_type": "execute_result"
    }
   ],
   "source": [
    "transactions.loc[transactions['CustomerID']==12348.0]"
   ]
  },
  {
   "cell_type": "code",
   "execution_count": 6,
   "metadata": {},
   "outputs": [
    {
     "data": {
      "text/plain": [
       "InvoiceNo      0\n",
       "StockCode      0\n",
       "Description    0\n",
       "Quantity       0\n",
       "InvoiceDate    0\n",
       "UnitPrice      0\n",
       "CustomerID     0\n",
       "Country        0\n",
       "month          0\n",
       "year           0\n",
       "dtype: int64"
      ]
     },
     "execution_count": 6,
     "metadata": {},
     "output_type": "execute_result"
    }
   ],
   "source": [
    "transactions.isnull().sum(axis = 0)"
   ]
  },
  {
   "cell_type": "markdown",
   "metadata": {},
   "source": [
    "## Sales\n",
    "Around 700-800k of sales between January - August which increases to $1 million for September to December "
   ]
  },
  {
   "cell_type": "code",
   "execution_count": 7,
   "metadata": {},
   "outputs": [
    {
     "name": "stdout",
     "output_type": "stream",
     "text": [
      "         Date  month  year        Sales\n",
      "0  2010-12-01     12  2010   572713.890\n",
      "1  2011-01-01      1  2011   569445.040\n",
      "2  2011-02-01      2  2011   447137.350\n",
      "3  2011-03-01      3  2011   595500.760\n",
      "4  2011-04-01      4  2011   469200.361\n",
      "5  2011-05-01      5  2011   678594.560\n",
      "6  2011-06-01      6  2011   661213.690\n",
      "7  2011-07-01      7  2011   600091.011\n",
      "8  2011-08-01      8  2011   645343.900\n",
      "9  2011-09-01      9  2011   952838.382\n",
      "10 2011-10-01     10  2011  1039318.790\n",
      "11 2011-11-01     11  2011  1161817.380\n",
      "12 2011-12-01     12  2011   518192.790\n"
     ]
    },
    {
     "data": {
      "image/png": "[encoded data removed]",
      "text/plain": [
       "<Figure size 640x480 with 1 Axes>"
      ]
     },
     "metadata": {},
     "output_type": "display_data"
    }
   ],
   "source": [
    "# Sales accross the year\n",
    "transactions['Sales']=transactions['Quantity']*transactions['UnitPrice']\n",
    "\n",
    "total_monthly_sales=transactions.groupby(['month','year']).agg({'Sales':'sum'})\n",
    "total_monthly_sales=total_monthly_sales.reset_index()\n",
    "total_monthly_sales['Date'] = pd.to_datetime(total_monthly_sales[['year', 'month']].assign(day=1))\n",
    "total_monthly_sales=total_monthly_sales.groupby(['Date']).agg('sum').reset_index()\n",
    "\n",
    "sum_monthly_sales=total_monthly_sales[['Sales','Date']]\n",
    "print(total_monthly_sales)\n",
    "\n",
    "\n",
    "plt.bar(sum_monthly_sales['Date'],sum_monthly_sales['Sales'],linewidth=2.0,edgecolor='black')\n",
    "plt.title('Total Sales for the year')\n",
    "plt.xlabel('Months')\n",
    "plt.ylabel('Sales')\n",
    "plt.show()"
   ]
  },
  {
   "cell_type": "code",
   "execution_count": 8,
   "metadata": {},
   "outputs": [
    {
     "data": {
      "text/html": [
       "<div>\n",
       "<style scoped>\n",
       "    .dataframe tbody tr th:only-of-type {\n",
       "        vertical-align: middle;\n",
       "    }\n",
       "\n",
       "    .dataframe tbody tr th {\n",
       "        vertical-align: top;\n",
       "    }\n",
       "\n",
       "    .dataframe thead th {\n",
       "        text-align: right;\n",
       "    }\n",
       "</style>\n",
       "<table border=\"1\" class=\"dataframe\">\n",
       "  <thead>\n",
       "    <tr style=\"text-align: right;\">\n",
       "      <th></th>\n",
       "      <th>Sales</th>\n",
       "      <th>Date</th>\n",
       "    </tr>\n",
       "  </thead>\n",
       "  <tbody>\n",
       "    <tr>\n",
       "      <th>0</th>\n",
       "      <td>572713.890</td>\n",
       "      <td>2010-12-01</td>\n",
       "    </tr>\n",
       "    <tr>\n",
       "      <th>1</th>\n",
       "      <td>569445.040</td>\n",
       "      <td>2011-01-01</td>\n",
       "    </tr>\n",
       "    <tr>\n",
       "      <th>2</th>\n",
       "      <td>447137.350</td>\n",
       "      <td>2011-02-01</td>\n",
       "    </tr>\n",
       "    <tr>\n",
       "      <th>3</th>\n",
       "      <td>595500.760</td>\n",
       "      <td>2011-03-01</td>\n",
       "    </tr>\n",
       "    <tr>\n",
       "      <th>4</th>\n",
       "      <td>469200.361</td>\n",
       "      <td>2011-04-01</td>\n",
       "    </tr>\n",
       "    <tr>\n",
       "      <th>5</th>\n",
       "      <td>678594.560</td>\n",
       "      <td>2011-05-01</td>\n",
       "    </tr>\n",
       "    <tr>\n",
       "      <th>6</th>\n",
       "      <td>661213.690</td>\n",
       "      <td>2011-06-01</td>\n",
       "    </tr>\n",
       "    <tr>\n",
       "      <th>7</th>\n",
       "      <td>600091.011</td>\n",
       "      <td>2011-07-01</td>\n",
       "    </tr>\n",
       "    <tr>\n",
       "      <th>8</th>\n",
       "      <td>645343.900</td>\n",
       "      <td>2011-08-01</td>\n",
       "    </tr>\n",
       "    <tr>\n",
       "      <th>9</th>\n",
       "      <td>952838.382</td>\n",
       "      <td>2011-09-01</td>\n",
       "    </tr>\n",
       "    <tr>\n",
       "      <th>10</th>\n",
       "      <td>1039318.790</td>\n",
       "      <td>2011-10-01</td>\n",
       "    </tr>\n",
       "    <tr>\n",
       "      <th>11</th>\n",
       "      <td>1161817.380</td>\n",
       "      <td>2011-11-01</td>\n",
       "    </tr>\n",
       "    <tr>\n",
       "      <th>12</th>\n",
       "      <td>518192.790</td>\n",
       "      <td>2011-12-01</td>\n",
       "    </tr>\n",
       "  </tbody>\n",
       "</table>\n",
       "</div>"
      ],
      "text/plain": [
       "          Sales       Date\n",
       "0    572713.890 2010-12-01\n",
       "1    569445.040 2011-01-01\n",
       "2    447137.350 2011-02-01\n",
       "3    595500.760 2011-03-01\n",
       "4    469200.361 2011-04-01\n",
       "5    678594.560 2011-05-01\n",
       "6    661213.690 2011-06-01\n",
       "7    600091.011 2011-07-01\n",
       "8    645343.900 2011-08-01\n",
       "9    952838.382 2011-09-01\n",
       "10  1039318.790 2011-10-01\n",
       "11  1161817.380 2011-11-01\n",
       "12   518192.790 2011-12-01"
      ]
     },
     "execution_count": 8,
     "metadata": {},
     "output_type": "execute_result"
    }
   ],
   "source": [
    "sum_monthly_sales"
   ]
  },
  {
   "cell_type": "code",
   "execution_count": 9,
   "metadata": {},
   "outputs": [
    {
     "data": {
      "text/plain": [
       "0      572713.890\n",
       "1      569445.040\n",
       "2      447137.350\n",
       "3      595500.760\n",
       "4      469200.361\n",
       "5      678594.560\n",
       "6      661213.690\n",
       "7      600091.011\n",
       "8      645343.900\n",
       "9      952838.382\n",
       "10    1039318.790\n",
       "11    1161817.380\n",
       "12     518192.790\n",
       "Name: Sales, dtype: float64"
      ]
     },
     "execution_count": 9,
     "metadata": {},
     "output_type": "execute_result"
    }
   ],
   "source": [
    "sum_monthly_sales['Sales']"
   ]
  },
  {
   "cell_type": "markdown",
   "metadata": {},
   "source": [
    "## Customers\n",
    "### There are 4338 unique customers and a total of 397884 transactions with Customer IDs and 132220 without CustomerID. There are a total of 530,104 transactions\n"
   ]
  },
  {
   "cell_type": "code",
   "execution_count": 10,
   "metadata": {},
   "outputs": [
    {
     "name": "stdout",
     "output_type": "stream",
     "text": [
      "Unique IDs: 4338\n",
      "Transactions with ID's: 397884\n",
      "Transactions without IDs: 0\n"
     ]
    }
   ],
   "source": [
    "print(\"Unique IDs:\", transactions['CustomerID'].nunique())\n",
    "print(\"Transactions with ID's:\",transactions['CustomerID'].count())\n",
    "print(\"Transactions without IDs:\",(transactions['CustomerID'].isnull()).sum())\n",
    "Unique_Customer= transactions['CustomerID'].nunique()\n",
    "\n"
   ]
  },
  {
   "cell_type": "markdown",
   "metadata": {},
   "source": [
    "## Revenue by Customer\n",
    "### There is a large tail on the distribution of revenue. With the majority of customers spending less then $10,000 at the retailer and a handful that spend between 100,000 - 250,000"
   ]
  },
  {
   "cell_type": "code",
   "execution_count": 11,
   "metadata": {},
   "outputs": [
    {
     "data": {
      "image/png": "[encoded data removed]",
      "text/plain": [
       "<Figure size 1000x600 with 1 Axes>"
      ]
     },
     "metadata": {},
     "output_type": "display_data"
    }
   ],
   "source": [
    "cust_trans=transactions[['Sales','CustomerID']].groupby(['CustomerID']).agg('sum').sort_values('Sales')\n",
    "# Create the histogram\n",
    "plt.figure(figsize=(10, 6))\n",
    "plt.hist(cust_trans, bins=50, edgecolor='black', alpha=0.7)\n",
    "\n",
    "# Add labels and title\n",
    "plt.xlabel('Annual Spending ($)')\n",
    "plt.ylabel('Number of Customers')\n",
    "plt.title('Distribution of Customer Annual Spending')\n",
    "\n",
    "# Add grid for better readability\n",
    "plt.grid(axis='y', alpha=0.75, linestyle='--')\n",
    "\n",
    "plt.tight_layout()\n",
    "plt.show()"
   ]
  },
  {
   "cell_type": "code",
   "execution_count": 12,
   "metadata": {},
   "outputs": [
    {
     "data": {
      "text/plain": [
       "Sales    104\n",
       "dtype: int64"
      ]
     },
     "execution_count": 12,
     "metadata": {},
     "output_type": "execute_result"
    }
   ],
   "source": [
    "cust_trans.loc[cust_trans['Sales']>10000].count()"
   ]
  },
  {
   "cell_type": "code",
   "execution_count": 13,
   "metadata": {},
   "outputs": [
    {
     "data": {
      "image/png": "[encoded data removed]",
      "text/plain": [
       "<Figure size 1000x600 with 1 Axes>"
      ]
     },
     "metadata": {},
     "output_type": "display_data"
    }
   ],
   "source": [
    "# Filter out anomalies to see main distribution\n",
    "cust_trans_filt=cust_trans.loc[cust_trans['Sales']<10000]\n",
    "# Create the histogram\n",
    "plt.figure(figsize=(10, 6))\n",
    "plt.hist(cust_trans_filt, bins=50, edgecolor='black', alpha=0.7)\n",
    "\n",
    "# Add labels and title\n",
    "plt.xlabel('Annual Spending ($)')\n",
    "plt.ylabel('Number of Customers')\n",
    "plt.title('Distribution of Customer Annual Spending')\n",
    "\n",
    "# Add grid for better readability\n",
    "plt.grid(axis='y', alpha=0.75, linestyle='--')\n",
    "\n",
    "plt.tight_layout()\n",
    "plt.show()"
   ]
  },
  {
   "cell_type": "markdown",
   "metadata": {},
   "source": [
    "# Products\n",
    "### Little Birdie Paper craft is by far are the most popular item."
   ]
  },
  {
   "cell_type": "code",
   "execution_count": 14,
   "metadata": {},
   "outputs": [
    {
     "name": "stdout",
     "output_type": "stream",
     "text": [
      "                             Description  Quantity\n",
      "2047             MINI PAINT SET VINTAGE      26076\n",
      "2656                  RABBIT NIGHT LIGHT     27202\n",
      "2600                      POPCORN HOLDER     30931\n",
      "2269     PACK OF 72 RETROSPOT CAKE CASES     33693\n",
      "216        ASSORTED COLOUR BIRD ORNAMENT     35362\n",
      "3698  WHITE HANGING HEART T-LIGHT HOLDER     36725\n",
      "1762             JUMBO BAG RED RETROSPOT     46181\n",
      "3786   WORLD WAR 2 GLIDERS ASSTD DESIGNS     54415\n",
      "1992      MEDIUM CERAMIC TOP STORAGE JAR     77916\n",
      "2319         PAPER CRAFT , LITTLE BIRDIE     80995\n"
     ]
    }
   ],
   "source": [
    "# Item quantity sold\n",
    "# largest quantity of items sold\n",
    "item_quant=transactions.groupby(['Description']).agg({'Quantity':'sum'}).reset_index()\n",
    "item_quant=item_quant.sort_values('Quantity')\n",
    "top_sales=item_quant.tail(10)\n",
    "print(top_sales)"
   ]
  },
  {
   "cell_type": "markdown",
   "metadata": {},
   "source": [
    "# Transaction by country \n",
    "The Vast majority of transactions come from UK (91.5%)"
   ]
  },
  {
   "cell_type": "code",
   "execution_count": 15,
   "metadata": {},
   "outputs": [
    {
     "data": {
      "image/png": "[encoded data removed]",
      "text/plain": [
       "<Figure size 1000x600 with 1 Axes>"
      ]
     },
     "metadata": {},
     "output_type": "display_data"
    }
   ],
   "source": [
    "trans_by_country=transactions.groupby(['Country']).agg({'Country':'count'})\n",
    "trans_by_country=trans_by_country.rename(columns={'Country':'Quantity'})\n",
    "trans_ranks_count=trans_by_country.sort_values('Quantity').tail(10).reset_index()\n",
    "\n",
    "\n",
    "plt.figure(figsize=(10, 6))\n",
    "bars = plt.bar(height=trans_ranks_count['Quantity'],x=trans_ranks_count['Country'], color='skyblue', edgecolor='navy', width=0.6)\n",
    "\n",
    "# Add title and labels\n",
    "plt.title('Quantity of transactions by Country', fontsize=14)\n",
    "plt.xlabel('Country', fontsize=12)\n",
    "plt.ylabel('Number of transactions', fontsize=12)\n",
    "\n",
    "# Add value labels on top of each bar\n",
    "for bar in bars:\n",
    "    height = bar.get_height()\n",
    "    plt.text(bar.get_x() + bar.get_width()/2., height + 1,\n",
    "            f'{height}', ha='center', va='bottom')\n",
    "\n",
    "# Add grid lines for the y-axis\n",
    "plt.grid(axis='y', linestyle='--', alpha=0.7)\n",
    "\n",
    "# Customize appearance\n",
    "plt.tight_layout()\n",
    "plt.show()"
   ]
  },
  {
   "cell_type": "markdown",
   "metadata": {},
   "source": [
    "# 4. Building the Model\n",
    "\n"
   ]
  },
  {
   "cell_type": "markdown",
   "metadata": {},
   "source": [
    "## 4a - Defining the structure and parameters of the model\n",
    "\n",
    "This model aims to predict the future health and value of a customer over a specified time period (time to churn).\n",
    "The output of these models will be used to:\n",
    "\n",
    "            1. Predict who in the customer base is at risk of churning\n",
    "\n",
    "            2. Sort the customers at risk by highest expected revenue\n",
    "            \n",
    "            3. Create marketing material based on the preferences of the customers at risk\n",
    "\n",
    "\n",
    "We will define churn as a customer not having purchased a good for 90 days and set the targets accordingly.\n",
    "\n",
    "\n",
    "\n"
   ]
  },
  {
   "cell_type": "code",
   "execution_count": 16,
   "metadata": {},
   "outputs": [
    {
     "name": "stdout",
     "output_type": "stream",
     "text": [
      "2011-09-10 12:50:00\n"
     ]
    }
   ],
   "source": [
    "n_days = 90\n",
    "max_date=transactions['InvoiceDate'].max()\n",
    "cutoff= max_date-pd.to_timedelta(n_days, unit=\"d\")\n",
    " # train-test Split- temporal out df relates to the actual amount of expenditure in the next 90 days after the target date\n",
    "print(cutoff)"
   ]
  },
  {
   "cell_type": "markdown",
   "metadata": {},
   "source": [
    "## Develop targets: \n",
    "Using the cutoff to create sales flags and filtering out customer ids which arent present before the cuttoff points, to create targets for the algorithm"
   ]
  },
  {
   "cell_type": "code",
   "execution_count": 17,
   "metadata": {},
   "outputs": [],
   "source": [
    "temporal_in_df=transactions[transactions['InvoiceDate']< cutoff]\n",
    "temporal_out_df=transactions[transactions['InvoiceDate'] >=cutoff].query('CustomerID in @temporal_in_df.CustomerID')\n",
    "targets=temporal_out_df[['CustomerID','Sales']].groupby(['CustomerID']).sum().rename({'Sales':'Sales_90'},axis=1).assign(sales_90_flag=1)"
   ]
  },
  {
   "cell_type": "markdown",
   "metadata": {},
   "source": [
    "# 4b. Create  Features \n",
    "RFM will be used as the basic features for the ML model as they have been proven to be important data points in predicting future customer behaviour  [[1]](#1)\n",
    "\n",
    "Recency- when was the last time they made a purchase in days\n",
    "\n",
    "Frequency- How many times did they purchase during the period\n",
    "\n",
    "Monetary Values- What was the total monetary value they spent during the time and what is the average value of the the transactions\n",
    "\n",
    "As RFM have known relationships between the future value of a customer we will use this as the basis for the ML. In the future we can develop further features which increase the relationship between historical data and the future value."
   ]
  },
  {
   "cell_type": "markdown",
   "metadata": {},
   "source": [
    "## Create Recency Features\n",
    "Recency will be represented in two metrics \n",
    "\n",
    "1. Days since last purchase- last time a customer purchased minus the maximum amount of days during the period under analysis. Meaning the closer to zero a customer is the longer it has been since the last purchase. \n",
    "\n",
    "\n",
    "2. How many times has the customer purchased in the last 30 days"
   ]
  },
  {
   "cell_type": "code",
   "execution_count": 18,
   "metadata": {},
   "outputs": [
    {
     "name": "stderr",
     "output_type": "stream",
     "text": [
      "C:\\Users\\As-Pro\\AppData\\Local\\Temp\\ipykernel_14052\\3237833438.py:2: DeprecationWarning: DataFrameGroupBy.apply operated on the grouping columns. This behavior is deprecated, and in a future version of pandas the grouping columns will be excluded from the operation. Either pass `include_groups=False` to exclude the groupings or explicitly select the grouping columns after groupby to silence this warning.\n",
      "  recency_features_df = temporal_in_df[['CustomerID','InvoiceDate']].groupby('CustomerID').apply(\n"
     ]
    },
    {
     "data": {
      "text/html": [
       "<div>\n",
       "<style scoped>\n",
       "    .dataframe tbody tr th:only-of-type {\n",
       "        vertical-align: middle;\n",
       "    }\n",
       "\n",
       "    .dataframe tbody tr th {\n",
       "        vertical-align: top;\n",
       "    }\n",
       "\n",
       "    .dataframe thead th {\n",
       "        text-align: right;\n",
       "    }\n",
       "</style>\n",
       "<table border=\"1\" class=\"dataframe\">\n",
       "  <thead>\n",
       "    <tr style=\"text-align: right;\">\n",
       "      <th></th>\n",
       "      <th>Recency</th>\n",
       "    </tr>\n",
       "    <tr>\n",
       "      <th>CustomerID</th>\n",
       "      <th></th>\n",
       "    </tr>\n",
       "  </thead>\n",
       "  <tbody>\n",
       "    <tr>\n",
       "      <th>12346.0</th>\n",
       "      <td>234</td>\n",
       "    </tr>\n",
       "    <tr>\n",
       "      <th>12347.0</th>\n",
       "      <td>38</td>\n",
       "    </tr>\n",
       "    <tr>\n",
       "      <th>12348.0</th>\n",
       "      <td>157</td>\n",
       "    </tr>\n",
       "    <tr>\n",
       "      <th>12350.0</th>\n",
       "      <td>218</td>\n",
       "    </tr>\n",
       "    <tr>\n",
       "      <th>12352.0</th>\n",
       "      <td>170</td>\n",
       "    </tr>\n",
       "  </tbody>\n",
       "</table>\n",
       "</div>"
      ],
      "text/plain": [
       "            Recency\n",
       "CustomerID         \n",
       "12346.0         234\n",
       "12347.0          38\n",
       "12348.0         157\n",
       "12350.0         218\n",
       "12352.0         170"
      ]
     },
     "execution_count": 18,
     "metadata": {},
     "output_type": "execute_result"
    }
   ],
   "source": [
    "max_date=temporal_in_df['InvoiceDate'].max()\n",
    "recency_features_df = temporal_in_df[['CustomerID','InvoiceDate']].groupby('CustomerID').apply(\n",
    "    lambda x: int((max_date - x['InvoiceDate'].max())/pd.to_timedelta(1,\"day\"))\n",
    ").to_frame()\n",
    "recency_features_df=recency_features_df.rename(columns={0:'Recency'})\n",
    "recency_features_df.head()"
   ]
  },
  {
   "cell_type": "code",
   "execution_count": 19,
   "metadata": {},
   "outputs": [
    {
     "data": {
      "text/plain": [
       "Timestamp('2011-09-09 15:53:00')"
      ]
     },
     "execution_count": 19,
     "metadata": {},
     "output_type": "execute_result"
    }
   ],
   "source": [
    "max_date"
   ]
  },
  {
   "cell_type": "code",
   "execution_count": 20,
   "metadata": {},
   "outputs": [
    {
     "data": {
      "text/plain": [
       "Recency    53\n",
       "dtype: int64"
      ]
     },
     "execution_count": 20,
     "metadata": {},
     "output_type": "execute_result"
    }
   ],
   "source": [
    "(recency_features_df.loc[recency_features_df['Recency']==0]).count()"
   ]
  },
  {
   "cell_type": "code",
   "execution_count": 21,
   "metadata": {},
   "outputs": [
    {
     "data": {
      "image/png": "[encoded data removed]",
      "text/plain": [
       "<Figure size 800x400 with 1 Axes>"
      ]
     },
     "metadata": {},
     "output_type": "display_data"
    }
   ],
   "source": [
    "column_name = 'Recency'  # Replace with your actual column name\n",
    "\n",
    "# Create the histogram\n",
    "plt.figure(figsize=(8, 4))\n",
    "plt.hist(recency_features_df[column_name], bins=30, color='skyblue', edgecolor='black', alpha=0.7)\n",
    "\n",
    "# Add labels and title\n",
    "plt.xlabel(column_name)\n",
    "plt.ylabel('Frequency')\n",
    "plt.title(f'Histogram of {column_name}')\n",
    "\n",
    "# Add grid for better readability\n",
    "plt.grid(True, linestyle='--', alpha=0.7)\n",
    "\n",
    "# Display the plot\n",
    "plt.tight_layout()\n",
    "plt.show()"
   ]
  },
  {
   "cell_type": "markdown",
   "metadata": {},
   "source": [
    "# How many times has a customer purchased in the last 30 days\n",
    "This will be an added feature which will help develop the future probability of LTV. As a customer who has purchased within the last 14 days, is a greater "
   ]
  },
  {
   "cell_type": "code",
   "execution_count": 22,
   "metadata": {},
   "outputs": [
    {
     "data": {
      "text/plain": [
       "Text(0.5, 1.0, 'Amount of sales in last 30 days by customer')"
      ]
     },
     "execution_count": 22,
     "metadata": {},
     "output_type": "execute_result"
    },
    {
     "data": {
      "image/png": "[encoded data removed]",
      "text/plain": [
       "<Figure size 640x480 with 1 Axes>"
      ]
     },
     "metadata": {},
     "output_type": "display_data"
    }
   ],
   "source": [
    "cut_off_m= cutoff-pd.to_timedelta(30,unit=\"d\")\n",
    "\n",
    "sales_last_month=temporal_in_df.query('InvoiceDate >= @cut_off_m')\\\n",
    "[['CustomerID','Sales']].drop_duplicates()\\\n",
    ".groupby('CustomerID')\\\n",
    ".sum()\\\n",
    ".set_axis(['sales_last_month'],axis=1).fillna(0)\n",
    "\n",
    "sales_last_month.hist()\n",
    "plt.title('Amount of sales in last 30 days by customer')"
   ]
  },
  {
   "cell_type": "code",
   "execution_count": 23,
   "metadata": {},
   "outputs": [
    {
     "data": {
      "text/plain": [
       "Timestamp('2011-08-11 12:50:00')"
      ]
     },
     "execution_count": 23,
     "metadata": {},
     "output_type": "execute_result"
    }
   ],
   "source": [
    "cut_off_m"
   ]
  },
  {
   "cell_type": "code",
   "execution_count": 24,
   "metadata": {},
   "outputs": [
    {
     "data": {
      "text/plain": [
       "Text(0.5, 1.0, 'Amount of sales in last 30 days by customer')"
      ]
     },
     "execution_count": 24,
     "metadata": {},
     "output_type": "execute_result"
    },
    {
     "data": {
      "image/png": "[encoded data removed]",
      "text/plain": [
       "<Figure size 640x480 with 1 Axes>"
      ]
     },
     "metadata": {},
     "output_type": "display_data"
    }
   ],
   "source": [
    "main_thirt=sales_last_month.loc[sales_last_month['sales_last_month']<1000]\n",
    "main_thirt.set_axis(['sales_last_month'],axis=1).fillna(0)\n",
    "\n",
    "main_thirt.hist()\n",
    "plt.title('Amount of sales in last 30 days by customer')"
   ]
  },
  {
   "cell_type": "code",
   "execution_count": 25,
   "metadata": {},
   "outputs": [
    {
     "name": "stdout",
     "output_type": "stream",
     "text": [
      "sales_last_month    48\n",
      "dtype: int64\n",
      "sales_last_month    17754.4\n",
      "dtype: float64\n"
     ]
    }
   ],
   "source": [
    "print(sales_last_month.loc[sales_last_month['sales_last_month']>1000].count())\n",
    "print(sales_last_month.max())"
   ]
  },
  {
   "cell_type": "markdown",
   "metadata": {},
   "source": [
    "# Frequency Features\n",
    "The number of times in which they purchased over the period"
   ]
  },
  {
   "cell_type": "code",
   "execution_count": 26,
   "metadata": {},
   "outputs": [
    {
     "data": {
      "text/html": [
       "<div>\n",
       "<style scoped>\n",
       "    .dataframe tbody tr th:only-of-type {\n",
       "        vertical-align: middle;\n",
       "    }\n",
       "\n",
       "    .dataframe tbody tr th {\n",
       "        vertical-align: top;\n",
       "    }\n",
       "\n",
       "    .dataframe thead th {\n",
       "        text-align: right;\n",
       "    }\n",
       "</style>\n",
       "<table border=\"1\" class=\"dataframe\">\n",
       "  <thead>\n",
       "    <tr style=\"text-align: right;\">\n",
       "      <th></th>\n",
       "      <th>Frequency</th>\n",
       "    </tr>\n",
       "    <tr>\n",
       "      <th>CustomerID</th>\n",
       "      <th></th>\n",
       "    </tr>\n",
       "  </thead>\n",
       "  <tbody>\n",
       "    <tr>\n",
       "      <th>12346.0</th>\n",
       "      <td>1</td>\n",
       "    </tr>\n",
       "    <tr>\n",
       "      <th>12347.0</th>\n",
       "      <td>124</td>\n",
       "    </tr>\n",
       "    <tr>\n",
       "      <th>12348.0</th>\n",
       "      <td>28</td>\n",
       "    </tr>\n",
       "    <tr>\n",
       "      <th>12350.0</th>\n",
       "      <td>17</td>\n",
       "    </tr>\n",
       "    <tr>\n",
       "      <th>12352.0</th>\n",
       "      <td>38</td>\n",
       "    </tr>\n",
       "  </tbody>\n",
       "</table>\n",
       "</div>"
      ],
      "text/plain": [
       "            Frequency\n",
       "CustomerID           \n",
       "12346.0             1\n",
       "12347.0           124\n",
       "12348.0            28\n",
       "12350.0            17\n",
       "12352.0            38"
      ]
     },
     "execution_count": 26,
     "metadata": {},
     "output_type": "execute_result"
    }
   ],
   "source": [
    "frequency_features_df=temporal_in_df[['CustomerID','InvoiceDate']].groupby('CustomerID').count()\n",
    "frequency_features_df=frequency_features_df.rename(columns={'InvoiceDate':'Frequency'})\n",
    "frequency_features_df.head()"
   ]
  },
  {
   "cell_type": "code",
   "execution_count": 27,
   "metadata": {},
   "outputs": [
    {
     "data": {
      "text/plain": [
       "Frequency    4490\n",
       "dtype: int64"
      ]
     },
     "execution_count": 27,
     "metadata": {},
     "output_type": "execute_result"
    }
   ],
   "source": [
    "frequency_features_df.max()"
   ]
  },
  {
   "cell_type": "code",
   "execution_count": 28,
   "metadata": {},
   "outputs": [
    {
     "data": {
      "text/plain": [
       "Frequency    4490\n",
       "dtype: int64"
      ]
     },
     "execution_count": 28,
     "metadata": {},
     "output_type": "execute_result"
    }
   ],
   "source": [
    "frequency_features_df.max()\n"
   ]
  },
  {
   "cell_type": "code",
   "execution_count": 29,
   "metadata": {},
   "outputs": [
    {
     "data": {
      "image/png": "[encoded data removed]",
      "text/plain": [
       "<Figure size 1000x300 with 1 Axes>"
      ]
     },
     "metadata": {},
     "output_type": "display_data"
    }
   ],
   "source": [
    "# Create a figure with subplots for each column\n",
    "fig, axes = plt.subplots(nrows=len(frequency_features_df.columns), figsize=(10, 3*len(frequency_features_df.columns)))\n",
    "\n",
    "# If there's only one column, axes will not be an array\n",
    "if len(frequency_features_df.columns) == 1:\n",
    "    axes = [axes]\n",
    "\n",
    "# Plot histogram for each column\n",
    "for i, column in enumerate(frequency_features_df.columns):\n",
    "    axes[i].hist(frequency_features_df[column], bins=20, alpha=0.7, color='skyblue', edgecolor='black')\n",
    "    axes[i].set_title(f'Number of Purchases by Customer')\n",
    "    axes[i].set_xlabel('Frequency')\n",
    "    axes[i].set_ylabel('Number of Customers')\n",
    "    axes[i].grid(True, linestyle='--', alpha=0.7)\n",
    "\n",
    "# Adjust layout\n",
    "plt.tight_layout()\n",
    "\n",
    "# Show the plot\n",
    "plt.show()"
   ]
  },
  {
   "cell_type": "code",
   "execution_count": 30,
   "metadata": {},
   "outputs": [
    {
     "data": {
      "image/png": "[encoded data removed]",
      "text/plain": [
       "<Figure size 1000x300 with 1 Axes>"
      ]
     },
     "metadata": {},
     "output_type": "display_data"
    }
   ],
   "source": [
    "frequency_features_main=frequency_features_df.loc[frequency_features_df['Frequency']<400]\n",
    "\n",
    "# Create a figure with subplots for each column\n",
    "fig, axes = plt.subplots(nrows=len(frequency_features_main.columns), figsize=(10, 3*len(frequency_features_main.columns)))\n",
    "\n",
    "# If there's only one column, axes will not be an array\n",
    "if len(frequency_features_main.columns) == 1:\n",
    "    axes = [axes]\n",
    "\n",
    "# Plot histogram for each column\n",
    "for i, column in enumerate(frequency_features_main.columns):\n",
    "    axes[i].hist(frequency_features_main[column], bins=20, alpha=0.7, color='skyblue', edgecolor='black')\n",
    "    axes[i].set_title('Number of Purchases by Customer')\n",
    "    axes[i].set_xlabel('Frequency')\n",
    "    axes[i].set_ylabel('Number of Customers')\n",
    "    axes[i].grid(True, linestyle='--', alpha=0.7)\n",
    "\n",
    "# Adjust layout\n",
    "plt.tight_layout()\n",
    "\n",
    "# Show the plot\n",
    "plt.show()"
   ]
  },
  {
   "cell_type": "markdown",
   "metadata": {},
   "source": [
    "# Monetary Value Features\n",
    "- The average sale of each transactions and the total sales during the period of historical sales\n"
   ]
  },
  {
   "cell_type": "code",
   "execution_count": 31,
   "metadata": {},
   "outputs": [
    {
     "name": "stdout",
     "output_type": "stream",
     "text": [
      "            sales_value_sum  sales_values_mean\n",
      "CustomerID                                    \n",
      "12346.0            77183.60       77183.600000\n",
      "12347.0             2790.86          22.506935\n",
      "12348.0             1487.24          53.115714\n",
      "12350.0              334.40          19.670588\n",
      "12352.0             1561.81          41.100263\n",
      "...                     ...                ...\n",
      "18280.0              180.60          18.060000\n",
      "18281.0               80.82          11.545714\n",
      "18282.0              100.21          14.315714\n",
      "18283.0             1120.67           2.507092\n",
      "18287.0              765.28          26.388966\n",
      "\n",
      "[3370 rows x 2 columns]\n"
     ]
    }
   ],
   "source": [
    "monetary_features=temporal_in_df.groupby(['CustomerID']).agg({'Sales':['sum','mean']}).set_axis(['sales_value_sum','sales_values_mean'],axis=1)\n",
    "print(monetary_features)"
   ]
  },
  {
   "cell_type": "markdown",
   "metadata": {},
   "source": [
    "# Concatinate all the features into the singular dataframe and merge in the targets"
   ]
  },
  {
   "cell_type": "code",
   "execution_count": 32,
   "metadata": {},
   "outputs": [
    {
     "data": {
      "text/html": [
       "<div>\n",
       "<style scoped>\n",
       "    .dataframe tbody tr th:only-of-type {\n",
       "        vertical-align: middle;\n",
       "    }\n",
       "\n",
       "    .dataframe tbody tr th {\n",
       "        vertical-align: top;\n",
       "    }\n",
       "\n",
       "    .dataframe thead th {\n",
       "        text-align: right;\n",
       "    }\n",
       "</style>\n",
       "<table border=\"1\" class=\"dataframe\">\n",
       "  <thead>\n",
       "    <tr style=\"text-align: right;\">\n",
       "      <th></th>\n",
       "      <th>Recency</th>\n",
       "      <th>Frequency</th>\n",
       "      <th>sales_value_sum</th>\n",
       "      <th>sales_values_mean</th>\n",
       "      <th>sales_last_month</th>\n",
       "      <th>Sales_90</th>\n",
       "      <th>sales_90_flag</th>\n",
       "    </tr>\n",
       "    <tr>\n",
       "      <th>CustomerID</th>\n",
       "      <th></th>\n",
       "      <th></th>\n",
       "      <th></th>\n",
       "      <th></th>\n",
       "      <th></th>\n",
       "      <th></th>\n",
       "      <th></th>\n",
       "    </tr>\n",
       "  </thead>\n",
       "  <tbody>\n",
       "    <tr>\n",
       "      <th>12346.0</th>\n",
       "      <td>234</td>\n",
       "      <td>1</td>\n",
       "      <td>77183.60</td>\n",
       "      <td>77183.600000</td>\n",
       "      <td>0.0</td>\n",
       "      <td>0.00</td>\n",
       "      <td>0.0</td>\n",
       "    </tr>\n",
       "    <tr>\n",
       "      <th>12347.0</th>\n",
       "      <td>38</td>\n",
       "      <td>124</td>\n",
       "      <td>2790.86</td>\n",
       "      <td>22.506935</td>\n",
       "      <td>0.0</td>\n",
       "      <td>1519.14</td>\n",
       "      <td>1.0</td>\n",
       "    </tr>\n",
       "    <tr>\n",
       "      <th>12348.0</th>\n",
       "      <td>157</td>\n",
       "      <td>28</td>\n",
       "      <td>1487.24</td>\n",
       "      <td>53.115714</td>\n",
       "      <td>0.0</td>\n",
       "      <td>310.00</td>\n",
       "      <td>1.0</td>\n",
       "    </tr>\n",
       "    <tr>\n",
       "      <th>12350.0</th>\n",
       "      <td>218</td>\n",
       "      <td>17</td>\n",
       "      <td>334.40</td>\n",
       "      <td>19.670588</td>\n",
       "      <td>0.0</td>\n",
       "      <td>0.00</td>\n",
       "      <td>0.0</td>\n",
       "    </tr>\n",
       "    <tr>\n",
       "      <th>12352.0</th>\n",
       "      <td>170</td>\n",
       "      <td>38</td>\n",
       "      <td>1561.81</td>\n",
       "      <td>41.100263</td>\n",
       "      <td>0.0</td>\n",
       "      <td>944.23</td>\n",
       "      <td>1.0</td>\n",
       "    </tr>\n",
       "  </tbody>\n",
       "</table>\n",
       "</div>"
      ],
      "text/plain": [
       "            Recency  Frequency  sales_value_sum  sales_values_mean  \\\n",
       "CustomerID                                                           \n",
       "12346.0         234          1         77183.60       77183.600000   \n",
       "12347.0          38        124          2790.86          22.506935   \n",
       "12348.0         157         28          1487.24          53.115714   \n",
       "12350.0         218         17           334.40          19.670588   \n",
       "12352.0         170         38          1561.81          41.100263   \n",
       "\n",
       "            sales_last_month  Sales_90  sales_90_flag  \n",
       "CustomerID                                             \n",
       "12346.0                  0.0      0.00            0.0  \n",
       "12347.0                  0.0   1519.14            1.0  \n",
       "12348.0                  0.0    310.00            1.0  \n",
       "12350.0                  0.0      0.00            0.0  \n",
       "12352.0                  0.0    944.23            1.0  "
      ]
     },
     "execution_count": 32,
     "metadata": {},
     "output_type": "execute_result"
    }
   ],
   "source": [
    "features=pd.concat([recency_features_df, frequency_features_df, monetary_features,sales_last_month],axis=1)\n",
    "features['sales_last_month']=features['sales_last_month'].fillna(0)\n",
    "features=features.merge(targets,how='left',left_index=True,right_index=True)\n",
    "features['Sales_90']=features['Sales_90'].fillna(0)\n",
    "features['sales_90_flag']=features['sales_90_flag'].fillna(0)\n",
    "features.head()"
   ]
  },
  {
   "cell_type": "markdown",
   "metadata": {},
   "source": [
    "# Proving relationship between the features and churn\n",
    "\n",
    "12348.0"
   ]
  },
  {
   "cell_type": "markdown",
   "metadata": {},
   "source": [
    "\n",
    "### Hypothesis: Recency and Churn\n",
    "\n",
    "The hypothesis is that customers who made a purchase more recently are less likely to churn. This is based on the assumption that the more recent the purchase, the lower the likelihood of external factors—such as shifting market dynamics, changes in the product catalogue, or supplier switches—disrupting their demand.\n",
    "\n",
    "### Analysis\n",
    "\n",
    "The boxplot below supports this hypothesis, showing that customers who **did not churn** (i.e., made a purchase within the last 90 days) had, on average, a more recent purchase date than those who **did churn**. This suggests that **recency** is a strong indicator of churn likelihood.\n",
    "\n",
    "### Statistical Validation\n",
    "\n",
    "This relationship is further validated by a **one-way ANOVA test**, which returned a **p-value near zero**—indicating a **statistically significant difference** in average recency between churned and non-churned customers.\n",
    "\n"
   ]
  },
  {
   "cell_type": "code",
   "execution_count": 33,
   "metadata": {},
   "outputs": [
    {
     "data": {
      "image/png": "[encoded data removed]",
      "text/plain": [
       "<Figure size 1000x600 with 1 Axes>"
      ]
     },
     "metadata": {},
     "output_type": "display_data"
    }
   ],
   "source": [
    "\n",
    "# Create box plot\n",
    "plt.figure(figsize=(10, 6))\n",
    "sns.boxplot(x='sales_90_flag', y='Recency', data=features)\n",
    "plt.title('Recency vs Churn')\n",
    "plt.show()"
   ]
  },
  {
   "cell_type": "code",
   "execution_count": 34,
   "metadata": {},
   "outputs": [
    {
     "name": "stdout",
     "output_type": "stream",
     "text": [
      "F-statistic: 346.42071965401317, p-value: 1.1222971664044166e-73\n"
     ]
    }
   ],
   "source": [
    "# Assuming df has your data with 'category_col' and 'continuous_col'\n",
    "categories = features['sales_90_flag'].unique()\n",
    "data_by_category = [features[features['sales_90_flag'] == cat]['Recency'] for cat in categories]\n",
    "\n",
    "# One-way ANOVA\n",
    "f_stat, p_value = stats.f_oneway(*data_by_category)\n",
    "print(f\"F-statistic: {f_stat}, p-value: {p_value}\")"
   ]
  },
  {
   "cell_type": "markdown",
   "metadata": {},
   "source": [
    "### Frequency\n",
    "\n",
    "### Hypothesis\n",
    "\n",
    "We hypothesize that customers with higher purchase frequency are less likely to churn. The rationale is that frequent purchases may indicate a stronger habit and greater dependency on the supplier, making churn less likely.\n",
    "\n",
    "### Analysis\n",
    "\n",
    "The boxplot below shows that customers who did **not** churn have a **higher median purchase frequency** compared to those who did. This supports the idea that frequency is a meaningful indicator of churn behavior.\n",
    "\n",
    "### Statistical Validation\n",
    "\n",
    "The p-value from the statistical test comparing frequency and 90-day churn is **very low**, indicating a **strong relationship** between purchase frequency and churn likelihood. In other words, it's highly probable that these two variables are related."
   ]
  },
  {
   "cell_type": "code",
   "execution_count": 35,
   "metadata": {},
   "outputs": [
    {
     "name": "stdout",
     "output_type": "stream",
     "text": [
      "F-statistic: 164.26782891205553, p-value: 9.42216248723352e-37\n"
     ]
    }
   ],
   "source": [
    "# Assuming df has your data with 'category_col' and 'continuous_col'\n",
    "categories = features['sales_90_flag'].unique()\n",
    "data_by_category = [features[features['sales_90_flag'] == cat]['Frequency'] for cat in categories]\n",
    "\n",
    "# One-way ANOVA\n",
    "f_stat, p_value = stats.f_oneway(*data_by_category)\n",
    "print(f\"F-statistic: {f_stat}, p-value: {p_value}\")"
   ]
  },
  {
   "cell_type": "code",
   "execution_count": 36,
   "metadata": {},
   "outputs": [
    {
     "data": {
      "image/png": "[encoded data removed]",
      "text/plain": [
       "<Figure size 800x400 with 1 Axes>"
      ]
     },
     "metadata": {},
     "output_type": "display_data"
    }
   ],
   "source": [
    "# Create box plot\n",
    "plt.figure(figsize=(8,4))\n",
    "sns.boxplot(x='sales_90_flag', y='Frequency', data=features,showmeans=True)\n",
    "plt.title('frequency vs Churn')\n",
    "plt.show()"
   ]
  },
  {
   "cell_type": "markdown",
   "metadata": {},
   "source": []
  },
  {
   "cell_type": "markdown",
   "metadata": {},
   "source": [
    "## Datasplitting between training and testing with a 80/ 20  split"
   ]
  },
  {
   "cell_type": "code",
   "execution_count": 37,
   "metadata": {},
   "outputs": [],
   "source": [
    "x=features.drop(columns=['Sales_90','sales_90_flag'])\n",
    "y=features[['Sales_90']]\n",
    "\n",
    "x=x.loc[x.index != 14646.0]\n",
    "y=y.loc[y.index != 14646.0]\n",
    "\n",
    "x_train,x_test,y_train,y_test=train_test_split(x,y,random_state=100,test_size=.2)"
   ]
  },
  {
   "cell_type": "markdown",
   "metadata": {},
   "source": [
    "# Testing the accuracy of the model to  predict the monetary values of customers future purchases\n",
    "\n",
    "RMSE is calculated as the total error observed and devided by the number of datapoints and then square rooted "
   ]
  },
  {
   "cell_type": "code",
   "execution_count": 38,
   "metadata": {},
   "outputs": [
    {
     "data": {
      "text/plain": [
       "Text(0.5, 1.0, 'Total Sales vs Sales Over Quarter')"
      ]
     },
     "execution_count": 38,
     "metadata": {},
     "output_type": "execute_result"
    },
    {
     "data": {
      "image/png": "[encoded data removed]",
      "text/plain": [
       "<Figure size 500x500 with 1 Axes>"
      ]
     },
     "metadata": {},
     "output_type": "display_data"
    }
   ],
   "source": [
    "\n",
    "ax=sns.lmplot(x='sales_value_sum',y='Sales_90',data=features)\n",
    "ax = plt.gca()\n",
    "ax.set_title(\"Total Sales vs Sales Over Quarter\")"
   ]
  },
  {
   "cell_type": "code",
   "execution_count": 39,
   "metadata": {},
   "outputs": [],
   "source": [
    "\n",
    "model = LinearRegression()\n",
    "\n",
    "model.fit(x_train, y_train)\n",
    "\n",
    "y_pred = model.predict(x_test)\n",
    "\n"
   ]
  },
  {
   "cell_type": "code",
   "execution_count": 40,
   "metadata": {},
   "outputs": [
    {
     "name": "stdout",
     "output_type": "stream",
     "text": [
      "RMSE: 9028.571640435226\n"
     ]
    }
   ],
   "source": [
    "rmse = np.sqrt(mean_squared_error(y_test, y_pred))\n",
    "print(f\"RMSE: {rmse}\")"
   ]
  },
  {
   "cell_type": "code",
   "execution_count": 41,
   "metadata": {},
   "outputs": [
    {
     "data": {
      "text/plain": [
       "array([[ 1.27187854e+02],\n",
       "       [ 4.36404654e+02],\n",
       "       [ 4.87783185e+02],\n",
       "       [ 1.44691120e+03],\n",
       "       [ 3.87307371e+01],\n",
       "       [ 1.62431442e+02],\n",
       "       [ 5.13355846e+02],\n",
       "       [ 1.03008787e+03],\n",
       "       [ 5.09960766e+02],\n",
       "       [ 1.05795255e+02],\n",
       "       [-1.74948986e+02],\n",
       "       [ 9.79526655e+01],\n",
       "       [ 1.65034121e+02],\n",
       "       [ 1.35261991e+03],\n",
       "       [ 1.79983054e+02],\n",
       "       [ 1.88943548e+02],\n",
       "       [-5.74187179e+01],\n",
       "       [ 2.96573209e+02],\n",
       "       [ 9.01436245e+02],\n",
       "       [ 2.48945191e+03],\n",
       "       [-1.81089812e+01],\n",
       "       [ 3.70224149e+02],\n",
       "       [ 7.09703657e+00],\n",
       "       [ 4.00307722e+02],\n",
       "       [ 8.64781957e+03],\n",
       "       [ 5.79942016e+02],\n",
       "       [ 5.88864306e+02],\n",
       "       [ 3.77911836e+03],\n",
       "       [ 2.30585077e+02],\n",
       "       [ 2.41730215e+03],\n",
       "       [ 9.99127548e+01],\n",
       "       [ 8.69938187e+02],\n",
       "       [ 2.50989443e+02],\n",
       "       [ 5.91075801e+01],\n",
       "       [ 1.11277616e+03],\n",
       "       [ 7.32003155e+01],\n",
       "       [ 1.28855660e+01],\n",
       "       [ 4.68632328e+01],\n",
       "       [ 1.06443321e+02],\n",
       "       [ 1.69455944e+02],\n",
       "       [ 5.96642790e+02],\n",
       "       [ 1.41637772e+02],\n",
       "       [ 9.24741231e+02],\n",
       "       [ 9.41365961e+01],\n",
       "       [ 5.22832853e+02],\n",
       "       [ 1.68708451e+02],\n",
       "       [ 4.02517761e+02],\n",
       "       [ 4.51826876e+02],\n",
       "       [ 5.16782217e+01],\n",
       "       [ 6.09589688e+02],\n",
       "       [ 5.52414741e+00],\n",
       "       [ 1.20425411e+02],\n",
       "       [ 2.45334303e+02],\n",
       "       [ 3.53216513e+02],\n",
       "       [ 9.75515053e+02],\n",
       "       [ 4.12984393e+02],\n",
       "       [ 1.21753935e+03],\n",
       "       [ 3.45075889e+01],\n",
       "       [ 3.28161798e+02],\n",
       "       [ 1.09604419e+02],\n",
       "       [-1.29798617e+02],\n",
       "       [-3.49068519e+02],\n",
       "       [ 2.72318843e+02],\n",
       "       [-6.33360923e+01],\n",
       "       [ 4.51581868e+01],\n",
       "       [ 3.51157019e+02],\n",
       "       [-5.94947853e+01],\n",
       "       [ 8.67402847e+02],\n",
       "       [ 1.43461468e+02],\n",
       "       [ 6.60337168e+02],\n",
       "       [ 2.71245893e+02],\n",
       "       [ 4.75577732e+02],\n",
       "       [ 1.07104448e+02],\n",
       "       [ 2.08801442e+03],\n",
       "       [ 1.17591064e+04],\n",
       "       [ 6.99647336e+01],\n",
       "       [ 6.80690407e+00],\n",
       "       [ 7.17224713e+02],\n",
       "       [ 3.12425952e+02],\n",
       "       [-5.78784727e+01],\n",
       "       [ 1.57967843e+02],\n",
       "       [ 3.02418861e+02],\n",
       "       [ 5.94120396e+01],\n",
       "       [-1.48763947e+02],\n",
       "       [ 5.85782935e+02],\n",
       "       [ 2.28834330e+01],\n",
       "       [ 1.22553293e+03],\n",
       "       [ 2.35905967e+02],\n",
       "       [ 7.45199619e+02],\n",
       "       [ 1.07187839e+02],\n",
       "       [ 4.74244365e+02],\n",
       "       [ 1.33422358e+02],\n",
       "       [ 4.55461528e+00],\n",
       "       [ 3.58403324e+02],\n",
       "       [ 1.27677532e+02],\n",
       "       [ 9.27921688e+02],\n",
       "       [ 8.90523652e+02],\n",
       "       [ 1.66716335e+02],\n",
       "       [-2.25776979e+01],\n",
       "       [ 2.12794890e+02],\n",
       "       [-1.71397258e+02],\n",
       "       [ 4.97932897e+02],\n",
       "       [-1.02368095e+00],\n",
       "       [ 3.80511792e+02],\n",
       "       [ 1.90314138e+02],\n",
       "       [ 1.15631514e+03],\n",
       "       [ 8.59626244e+01],\n",
       "       [ 1.48261506e+02],\n",
       "       [ 1.12713732e+03],\n",
       "       [ 2.56967398e+02],\n",
       "       [ 1.98645549e+02],\n",
       "       [ 3.35989953e+01],\n",
       "       [ 7.06374458e+00],\n",
       "       [ 1.97218088e+02],\n",
       "       [ 1.25783988e+02],\n",
       "       [ 6.40888686e+01],\n",
       "       [ 4.86153550e+01],\n",
       "       [ 1.16029987e+03],\n",
       "       [ 2.16402624e+03],\n",
       "       [ 5.97008509e+02],\n",
       "       [ 1.75786414e+01],\n",
       "       [ 4.57377585e+02],\n",
       "       [ 8.44026321e+02],\n",
       "       [ 8.43796629e+02],\n",
       "       [ 3.55864201e+02],\n",
       "       [ 3.09880880e+02],\n",
       "       [ 7.41926615e+01],\n",
       "       [ 7.00276861e+02],\n",
       "       [ 5.09298573e+02],\n",
       "       [ 9.35051095e+02],\n",
       "       [ 2.91949907e+02],\n",
       "       [ 2.10147299e+01],\n",
       "       [ 2.28934717e+02],\n",
       "       [ 2.24373045e+02],\n",
       "       [ 5.35180478e+02],\n",
       "       [ 1.25574485e+02],\n",
       "       [ 8.43384554e+02],\n",
       "       [-1.24451709e+02],\n",
       "       [ 5.14737110e+01],\n",
       "       [ 8.18987644e+01],\n",
       "       [ 2.33498103e+03],\n",
       "       [ 1.22445937e+03],\n",
       "       [ 4.18964744e+02],\n",
       "       [ 8.25433113e+02],\n",
       "       [ 1.52720061e+03],\n",
       "       [ 6.92560161e+01],\n",
       "       [ 3.56919470e+02],\n",
       "       [ 3.04987819e+01],\n",
       "       [ 1.18252873e+03],\n",
       "       [ 3.84163019e+02],\n",
       "       [ 2.46416564e+02],\n",
       "       [ 2.27076640e+03],\n",
       "       [ 8.57297747e+01],\n",
       "       [ 3.01392924e+02],\n",
       "       [ 2.28389241e+02],\n",
       "       [ 3.58096349e+02],\n",
       "       [ 3.83177657e+02],\n",
       "       [ 1.02338276e+03],\n",
       "       [ 4.27270331e+01],\n",
       "       [ 9.25141378e+02],\n",
       "       [ 1.69289385e+02],\n",
       "       [ 4.28416023e+02],\n",
       "       [ 8.47761430e+02],\n",
       "       [ 4.02971325e+02],\n",
       "       [ 8.40993110e+01],\n",
       "       [ 1.03749527e+03],\n",
       "       [ 1.74541599e+02],\n",
       "       [ 1.76976867e+02],\n",
       "       [ 1.08979789e+03],\n",
       "       [ 1.62527859e+02],\n",
       "       [ 2.72301813e+02],\n",
       "       [ 1.18171175e+03],\n",
       "       [ 2.66621220e+02],\n",
       "       [ 1.13850155e+01],\n",
       "       [ 1.95006780e+02],\n",
       "       [ 9.81522826e+01],\n",
       "       [-4.39650691e+01],\n",
       "       [ 4.85104894e+02],\n",
       "       [ 1.08768716e+01],\n",
       "       [ 7.37250231e+01],\n",
       "       [ 9.44238061e+01],\n",
       "       [ 4.35067972e+02],\n",
       "       [ 9.07859605e+01],\n",
       "       [ 2.13972062e+02],\n",
       "       [ 5.32232032e+02],\n",
       "       [-1.38372094e+01],\n",
       "       [ 1.56954874e+02],\n",
       "       [ 6.67902840e+01],\n",
       "       [ 1.76654592e+02],\n",
       "       [ 8.40177515e+02],\n",
       "       [ 2.29153392e+02],\n",
       "       [-8.90475375e+01],\n",
       "       [ 3.38340146e+02],\n",
       "       [ 1.15331376e+02],\n",
       "       [ 2.46583637e+02],\n",
       "       [ 5.59198846e+03],\n",
       "       [ 4.86189872e+02],\n",
       "       [ 1.99147591e+02],\n",
       "       [ 8.71760538e+02],\n",
       "       [ 1.14881565e+03],\n",
       "       [ 2.55503733e+04],\n",
       "       [ 1.06179374e+02],\n",
       "       [ 2.70018096e+02],\n",
       "       [-1.28274611e+00],\n",
       "       [ 6.58399652e+02],\n",
       "       [-2.61623217e+01],\n",
       "       [ 5.75338675e+02],\n",
       "       [ 6.01030280e+02],\n",
       "       [ 2.27568397e+02],\n",
       "       [ 1.69881829e+02],\n",
       "       [-1.19752182e+02],\n",
       "       [-4.59371696e+01],\n",
       "       [ 4.23850933e+02],\n",
       "       [-6.32389667e+01],\n",
       "       [ 9.23295550e+02],\n",
       "       [ 5.26841495e+02],\n",
       "       [ 8.60337865e+02],\n",
       "       [ 1.67718616e+04],\n",
       "       [ 4.28405489e+01],\n",
       "       [ 2.36323731e+03],\n",
       "       [ 4.65046067e+02],\n",
       "       [ 5.05247374e+01],\n",
       "       [ 9.31489866e+01],\n",
       "       [ 2.18668305e+02],\n",
       "       [ 4.51418307e+02],\n",
       "       [ 1.17506947e+03],\n",
       "       [ 3.48723130e+02],\n",
       "       [ 4.82017035e+02],\n",
       "       [ 3.48457272e+02],\n",
       "       [ 3.63873893e+02],\n",
       "       [ 2.15575958e+02],\n",
       "       [ 6.22528554e+02],\n",
       "       [-1.65262420e+03],\n",
       "       [ 1.39802788e+02],\n",
       "       [ 3.19204636e+01],\n",
       "       [ 2.35470650e+02],\n",
       "       [ 1.13957845e+02],\n",
       "       [-1.15432028e+02],\n",
       "       [ 7.73568970e+02],\n",
       "       [ 2.84707427e+02],\n",
       "       [ 9.16982075e+02],\n",
       "       [ 5.86365233e+02],\n",
       "       [ 3.74603697e+03],\n",
       "       [ 7.81318349e+02],\n",
       "       [ 1.20432798e+02],\n",
       "       [ 1.34557565e+01],\n",
       "       [ 2.52313247e+02],\n",
       "       [ 2.99460377e+02],\n",
       "       [ 1.57432430e+02],\n",
       "       [ 2.92928522e+03],\n",
       "       [ 3.08359587e+02],\n",
       "       [ 7.34285904e+02],\n",
       "       [ 5.99414875e+02],\n",
       "       [ 4.01498966e+02],\n",
       "       [ 1.31498823e+02],\n",
       "       [ 1.27417656e+01],\n",
       "       [ 9.28054022e+01],\n",
       "       [ 1.30585538e+02],\n",
       "       [ 1.76583695e+02],\n",
       "       [ 5.48011981e+01],\n",
       "       [ 1.64626763e+02],\n",
       "       [ 1.33951896e+02],\n",
       "       [-4.39903875e+02],\n",
       "       [ 2.35950608e+03],\n",
       "       [ 2.97354306e+02],\n",
       "       [ 2.01996871e+01],\n",
       "       [-8.18298401e+01],\n",
       "       [ 3.57037546e+03],\n",
       "       [ 2.58312129e+03],\n",
       "       [ 1.41094846e+02],\n",
       "       [ 1.05418031e+02],\n",
       "       [ 3.06461371e+02],\n",
       "       [ 3.85858681e+02],\n",
       "       [ 3.33237416e+02],\n",
       "       [ 6.34981264e+02],\n",
       "       [ 5.54918224e+01],\n",
       "       [ 5.69222126e+01],\n",
       "       [-1.49880934e+01],\n",
       "       [ 7.57269348e+01],\n",
       "       [ 3.00704893e+01],\n",
       "       [ 5.26674397e+02],\n",
       "       [-2.63570828e+02],\n",
       "       [-5.80647313e+01],\n",
       "       [ 4.68426086e+02],\n",
       "       [ 1.95974724e+02],\n",
       "       [ 6.03733033e+03],\n",
       "       [ 6.02608302e+01],\n",
       "       [ 7.87117402e+01],\n",
       "       [-8.84914194e+01],\n",
       "       [ 9.12689551e+01],\n",
       "       [ 5.44638185e+02],\n",
       "       [ 2.28258345e+02],\n",
       "       [ 2.19726479e+02],\n",
       "       [ 2.12615093e+03],\n",
       "       [ 5.27126446e+01],\n",
       "       [ 1.60043906e+02],\n",
       "       [ 1.35630940e+03],\n",
       "       [ 4.66884409e+02],\n",
       "       [ 1.61726771e+02],\n",
       "       [ 1.08319915e+02],\n",
       "       [ 5.82616345e+01],\n",
       "       [ 7.71797622e+02],\n",
       "       [ 3.72837709e+03],\n",
       "       [-6.45860925e+01],\n",
       "       [ 2.33228006e+03],\n",
       "       [ 4.89312666e+02],\n",
       "       [ 3.49608145e+02],\n",
       "       [ 2.88082712e+02],\n",
       "       [ 1.28892338e+03],\n",
       "       [ 5.97345507e+02],\n",
       "       [ 2.98161687e+02],\n",
       "       [ 1.40840609e+02],\n",
       "       [ 1.65196913e+02],\n",
       "       [-4.97677589e+01],\n",
       "       [ 3.42913509e+01],\n",
       "       [ 3.06853653e+01],\n",
       "       [ 1.45518555e+02],\n",
       "       [ 2.08984181e+02],\n",
       "       [ 3.38919376e+01],\n",
       "       [ 8.90083907e+01],\n",
       "       [ 1.71597493e+02],\n",
       "       [ 1.06470996e+02],\n",
       "       [ 7.69208603e+02],\n",
       "       [ 2.65863863e+01],\n",
       "       [ 1.83662071e+02],\n",
       "       [ 4.60314593e+02],\n",
       "       [ 6.56860481e+01],\n",
       "       [ 1.90125134e+02],\n",
       "       [ 1.25664519e+02],\n",
       "       [ 1.78599772e+03],\n",
       "       [ 3.19345820e+01],\n",
       "       [ 2.32015298e+01],\n",
       "       [-4.47697647e+00],\n",
       "       [ 1.39135112e+03],\n",
       "       [ 4.93779087e+02],\n",
       "       [ 3.19700810e+02],\n",
       "       [ 7.55706074e+02],\n",
       "       [ 6.03286393e+03],\n",
       "       [ 9.35749304e+02],\n",
       "       [ 2.46050380e+02],\n",
       "       [ 2.64730871e+03],\n",
       "       [ 5.48565859e+02],\n",
       "       [ 2.26166863e+02],\n",
       "       [ 1.44593542e+02],\n",
       "       [ 3.28901271e+02],\n",
       "       [ 1.47032779e+02],\n",
       "       [ 1.41299409e+02],\n",
       "       [ 1.80902614e+03],\n",
       "       [ 9.52623726e+01],\n",
       "       [ 4.53192974e+02],\n",
       "       [ 1.16318654e+03],\n",
       "       [ 3.09729317e+02],\n",
       "       [-5.12409136e+01],\n",
       "       [ 6.86390222e+02],\n",
       "       [ 1.25759090e+02],\n",
       "       [-1.75867345e+01],\n",
       "       [ 5.13949213e+02],\n",
       "       [ 3.86164825e+02],\n",
       "       [ 7.55237325e+01],\n",
       "       [ 2.26593716e+02],\n",
       "       [ 9.31563676e+01],\n",
       "       [ 1.52503542e+03],\n",
       "       [ 2.45755306e+02],\n",
       "       [ 1.91303120e+02],\n",
       "       [ 3.23206908e+02],\n",
       "       [ 2.37779855e+02],\n",
       "       [ 2.23080603e+01],\n",
       "       [ 3.33109192e+02],\n",
       "       [ 2.76146300e+02],\n",
       "       [ 4.15243994e+02],\n",
       "       [ 1.89554717e+03],\n",
       "       [ 6.87771441e+02],\n",
       "       [ 1.93093986e+02],\n",
       "       [ 6.24386724e+02],\n",
       "       [ 5.25285441e+01],\n",
       "       [ 1.25973274e+02],\n",
       "       [-3.33354529e+01],\n",
       "       [ 3.87787442e+02],\n",
       "       [ 2.36908079e+01],\n",
       "       [ 2.29751983e+02],\n",
       "       [-1.42292776e+02],\n",
       "       [ 1.81664463e+02],\n",
       "       [ 1.10459725e+02],\n",
       "       [ 8.79624790e+00],\n",
       "       [ 4.20502181e+02],\n",
       "       [ 2.36327361e+01],\n",
       "       [ 4.31787813e+02],\n",
       "       [ 6.85140145e+03],\n",
       "       [-5.28670149e+01],\n",
       "       [ 1.50858613e+02],\n",
       "       [ 1.29284014e+02],\n",
       "       [ 9.34280452e+01],\n",
       "       [-1.03536338e+02],\n",
       "       [ 8.33268807e+02],\n",
       "       [ 8.34332876e+02],\n",
       "       [ 1.89773936e+02],\n",
       "       [ 5.97407454e+02],\n",
       "       [ 4.44851006e+02],\n",
       "       [-2.09629209e+02],\n",
       "       [-1.27832350e+02],\n",
       "       [ 1.58905285e+02],\n",
       "       [ 1.62801858e+02],\n",
       "       [ 9.12982720e+02],\n",
       "       [ 1.16201402e+02],\n",
       "       [ 1.25378850e+02],\n",
       "       [ 4.47333244e+02],\n",
       "       [-2.78822587e+02],\n",
       "       [ 4.95071863e+00],\n",
       "       [ 1.75495741e+02],\n",
       "       [ 1.41900005e+03],\n",
       "       [ 1.18916820e+03],\n",
       "       [-4.03891826e+01],\n",
       "       [ 1.54421323e+03],\n",
       "       [ 1.05515737e+02],\n",
       "       [ 1.00129641e+03],\n",
       "       [ 1.35538800e+03],\n",
       "       [ 1.45692098e+01],\n",
       "       [ 1.08910691e+03],\n",
       "       [ 1.04735268e+02],\n",
       "       [ 6.27595637e+04],\n",
       "       [ 1.09677707e+03],\n",
       "       [ 1.77206346e+02],\n",
       "       [ 1.97928856e+04],\n",
       "       [-6.31893088e+02],\n",
       "       [-2.30399535e+01],\n",
       "       [ 3.10952471e+02],\n",
       "       [-5.24098395e+01],\n",
       "       [ 9.37950881e+01],\n",
       "       [ 3.67872976e+02],\n",
       "       [ 3.81769794e+02],\n",
       "       [ 3.44454815e+02],\n",
       "       [ 1.93764888e+02],\n",
       "       [ 3.60849293e+01],\n",
       "       [ 1.13552863e+03],\n",
       "       [ 5.16868240e+02],\n",
       "       [ 3.24491731e+02],\n",
       "       [ 5.22574947e+01],\n",
       "       [ 2.54807379e+02],\n",
       "       [ 1.55206541e+02],\n",
       "       [-1.35304607e+02],\n",
       "       [ 1.79869280e+02],\n",
       "       [ 1.75027740e+02],\n",
       "       [ 5.13635515e+02],\n",
       "       [ 9.87072068e+01],\n",
       "       [ 3.00623225e+02],\n",
       "       [ 1.57802659e+02],\n",
       "       [ 5.52887455e+01],\n",
       "       [ 5.68297742e+02],\n",
       "       [ 8.34468613e+02],\n",
       "       [ 4.67775926e+01],\n",
       "       [ 1.19196013e+02],\n",
       "       [ 3.16882994e+02],\n",
       "       [ 1.27285554e+02],\n",
       "       [ 1.05122283e+02],\n",
       "       [-4.45646979e+01],\n",
       "       [ 1.01199850e+03],\n",
       "       [-3.72277388e+01],\n",
       "       [ 1.14114635e+02],\n",
       "       [ 3.65610987e+02],\n",
       "       [ 2.89780620e+02],\n",
       "       [ 3.47443484e+03],\n",
       "       [ 5.94287474e+02],\n",
       "       [ 2.16100113e+03],\n",
       "       [ 1.62502787e+02],\n",
       "       [-3.01908297e+01],\n",
       "       [ 1.07434020e+02],\n",
       "       [ 6.29606159e+02],\n",
       "       [-9.15017853e-01],\n",
       "       [ 2.53926555e+02],\n",
       "       [ 3.58297239e+02],\n",
       "       [ 9.19659552e+02],\n",
       "       [ 1.87961116e+02],\n",
       "       [ 2.15428847e+02],\n",
       "       [ 6.24749038e+02],\n",
       "       [-2.11746618e-01],\n",
       "       [-1.30469388e+02],\n",
       "       [ 7.90203134e+01],\n",
       "       [ 1.19050489e+02],\n",
       "       [ 2.98945351e+04],\n",
       "       [ 8.56405422e+01],\n",
       "       [ 6.87911163e+01],\n",
       "       [-6.58933696e+01],\n",
       "       [ 6.43910642e+01],\n",
       "       [ 5.67137952e+02],\n",
       "       [ 3.04712770e+02],\n",
       "       [ 7.55639220e+03],\n",
       "       [ 5.13399866e+02],\n",
       "       [ 8.53829424e+02],\n",
       "       [ 4.10245383e+02],\n",
       "       [ 5.36145904e+01],\n",
       "       [-6.39894357e+02],\n",
       "       [ 1.78998351e+02],\n",
       "       [ 4.41964568e+02],\n",
       "       [-3.96765572e+00],\n",
       "       [ 3.46288620e+01],\n",
       "       [ 4.53317683e+02],\n",
       "       [ 7.64569560e+02],\n",
       "       [ 1.08516709e+03],\n",
       "       [ 8.30212078e+01],\n",
       "       [ 1.53986069e+03],\n",
       "       [ 1.33448227e+03],\n",
       "       [ 3.29005608e+02],\n",
       "       [ 1.03392654e+03],\n",
       "       [-3.67080814e+01],\n",
       "       [ 1.43041575e+03],\n",
       "       [ 1.86645380e+02],\n",
       "       [-5.52188312e+01],\n",
       "       [ 7.67843172e+02],\n",
       "       [ 3.91261360e+02],\n",
       "       [ 3.77180274e+02],\n",
       "       [ 4.19240532e+02],\n",
       "       [ 2.34238273e+02],\n",
       "       [ 1.19046727e+02],\n",
       "       [ 1.68622136e+03],\n",
       "       [-2.47764990e+02],\n",
       "       [ 1.82750894e+02],\n",
       "       [ 1.25553607e+03],\n",
       "       [-1.64716321e+01],\n",
       "       [ 1.11463108e+02],\n",
       "       [ 5.76909515e+01],\n",
       "       [ 4.09147758e+02],\n",
       "       [-1.56760965e+02],\n",
       "       [ 4.57806865e+02],\n",
       "       [ 6.35735284e+01],\n",
       "       [ 2.31444453e+03],\n",
       "       [ 7.75025577e+02],\n",
       "       [ 5.22808078e+01],\n",
       "       [ 8.25815088e+01],\n",
       "       [ 9.86271967e+01],\n",
       "       [ 4.46116013e+01],\n",
       "       [ 1.80258085e+02],\n",
       "       [ 1.19328684e+02],\n",
       "       [ 3.69508087e+01],\n",
       "       [-3.76703530e+00],\n",
       "       [ 1.67403389e+01],\n",
       "       [ 1.22762847e+02],\n",
       "       [ 1.25424395e+03],\n",
       "       [ 3.00851991e+02],\n",
       "       [ 1.10379258e+03],\n",
       "       [ 3.79241991e+02],\n",
       "       [ 4.30202302e+02],\n",
       "       [ 7.43588299e+02],\n",
       "       [ 1.70883044e+02],\n",
       "       [ 1.87637174e+01],\n",
       "       [ 1.31797764e+03],\n",
       "       [ 1.16006641e+02],\n",
       "       [-4.26018245e+01],\n",
       "       [ 1.30816640e+02],\n",
       "       [ 5.49969559e+03],\n",
       "       [ 1.91172855e+02],\n",
       "       [ 1.61027810e+02],\n",
       "       [ 9.56872750e+02],\n",
       "       [ 3.03668839e+02],\n",
       "       [ 2.51347093e+02],\n",
       "       [ 1.57834097e+02],\n",
       "       [ 1.86428058e+02],\n",
       "       [ 8.78253664e+02],\n",
       "       [ 1.70753409e+02],\n",
       "       [ 7.80673417e+02],\n",
       "       [ 1.43947654e+02],\n",
       "       [ 3.15344890e+02],\n",
       "       [ 8.26956560e+02],\n",
       "       [ 1.57540330e+03],\n",
       "       [ 1.18485046e+03],\n",
       "       [ 3.06772372e+01],\n",
       "       [ 9.65220948e+01],\n",
       "       [ 8.63141741e+02],\n",
       "       [-6.41893686e+02],\n",
       "       [ 6.95256913e+02],\n",
       "       [-9.94262078e+01],\n",
       "       [ 5.22235834e+01],\n",
       "       [ 3.45855374e+02],\n",
       "       [-2.66446856e+01],\n",
       "       [ 1.09024170e+03],\n",
       "       [ 9.72792653e+01],\n",
       "       [ 5.36176833e+02],\n",
       "       [-2.81304796e+01],\n",
       "       [ 1.16858871e+03],\n",
       "       [ 1.67800460e+02],\n",
       "       [ 1.62212254e+02],\n",
       "       [ 7.26603006e+01],\n",
       "       [ 1.04784188e+02],\n",
       "       [ 5.78968270e+02],\n",
       "       [ 6.20320532e+02],\n",
       "       [ 6.20584552e+01],\n",
       "       [ 2.17250097e+03],\n",
       "       [ 1.15040147e+03],\n",
       "       [ 7.54822538e+03],\n",
       "       [ 7.85595475e+00],\n",
       "       [-2.45769291e+01],\n",
       "       [ 1.06949367e+02],\n",
       "       [-1.28011996e+02],\n",
       "       [ 3.92521880e+02],\n",
       "       [ 3.99412500e+01],\n",
       "       [ 9.53011726e+03],\n",
       "       [ 8.04140527e+01],\n",
       "       [ 3.49844445e+03],\n",
       "       [ 6.64038367e+01],\n",
       "       [ 9.56707028e+01],\n",
       "       [ 5.61156052e+02],\n",
       "       [ 1.80316391e+01],\n",
       "       [ 9.62420616e+03],\n",
       "       [ 1.12997582e+02],\n",
       "       [ 9.00223086e+02],\n",
       "       [ 1.97077893e+03],\n",
       "       [ 1.34974670e+02],\n",
       "       [ 1.12815820e+02],\n",
       "       [-1.38488220e+05],\n",
       "       [-2.38167553e+01],\n",
       "       [ 1.20152444e+02],\n",
       "       [ 4.52172153e+02],\n",
       "       [ 2.16355909e+02],\n",
       "       [ 9.99774526e+01],\n",
       "       [ 5.46010503e+03],\n",
       "       [ 8.88134563e+01],\n",
       "       [ 2.91910183e+02],\n",
       "       [ 3.53976577e+02],\n",
       "       [ 1.53707913e+02],\n",
       "       [ 6.02035259e+01],\n",
       "       [ 5.67232200e+02],\n",
       "       [ 4.43030450e+02],\n",
       "       [ 1.40487127e+02],\n",
       "       [ 1.06949699e+03],\n",
       "       [ 5.63681107e+01],\n",
       "       [-8.21507797e+00],\n",
       "       [-2.44778085e+02],\n",
       "       [ 3.44540079e+02],\n",
       "       [ 4.35290075e+01],\n",
       "       [-2.49621545e+01],\n",
       "       [ 1.27706800e+03],\n",
       "       [ 1.17646981e+02],\n",
       "       [-4.43373266e+01],\n",
       "       [ 1.08627332e+03],\n",
       "       [ 2.62519343e+02],\n",
       "       [ 5.74644040e+02],\n",
       "       [ 6.52527612e+01],\n",
       "       [ 1.96956426e+03],\n",
       "       [ 1.64749738e+03],\n",
       "       [ 2.59987721e+02],\n",
       "       [ 2.26989083e+01],\n",
       "       [ 7.02484109e+02],\n",
       "       [ 2.34724193e+03],\n",
       "       [ 1.51561242e+03],\n",
       "       [ 1.88537348e+02],\n",
       "       [-1.12069816e+01],\n",
       "       [ 2.18819716e+02],\n",
       "       [ 1.47237781e+02],\n",
       "       [ 1.70589351e+02],\n",
       "       [ 1.91387416e+02],\n",
       "       [ 1.56353678e+02],\n",
       "       [ 2.21300134e+02],\n",
       "       [ 3.49272788e+02],\n",
       "       [ 5.19249578e+02],\n",
       "       [ 5.30128955e+02],\n",
       "       [ 1.04676861e+03],\n",
       "       [ 9.76868627e+01],\n",
       "       [-2.47652402e+01],\n",
       "       [ 1.14343155e+02],\n",
       "       [ 8.30060939e+02],\n",
       "       [ 7.40567922e+02],\n",
       "       [ 8.05539381e+01],\n",
       "       [ 5.37952774e+01],\n",
       "       [ 3.35598397e+02],\n",
       "       [ 1.01817051e+02],\n",
       "       [-9.78340646e+01],\n",
       "       [ 3.65441302e+02],\n",
       "       [ 1.14143747e+03],\n",
       "       [-5.55882058e+01],\n",
       "       [ 2.29725200e+03],\n",
       "       [-5.75467861e+01],\n",
       "       [ 4.58977849e+03],\n",
       "       [ 4.84858708e+02],\n",
       "       [ 1.84912446e+02],\n",
       "       [ 2.34167818e+02]])"
      ]
     },
     "execution_count": 41,
     "metadata": {},
     "output_type": "execute_result"
    }
   ],
   "source": [
    "y_pred"
   ]
  },
  {
   "cell_type": "code",
   "execution_count": 42,
   "metadata": {},
   "outputs": [
    {
     "data": {
      "text/plain": [
       "<matplotlib.legend.Legend at 0x1e0d3318890>"
      ]
     },
     "execution_count": 42,
     "metadata": {},
     "output_type": "execute_result"
    },
    {
     "data": {
      "image/png": "[encoded data removed]",
      "text/plain": [
       "<Figure size 1000x600 with 1 Axes>"
      ]
     },
     "metadata": {},
     "output_type": "display_data"
    }
   ],
   "source": [
    "# Create scatter plot\n",
    "plt.figure(figsize=(10, 6))\n",
    "plt.scatter(y_test, y_pred, alpha=0.7, color='blue', label='Predictions')\n",
    "\n",
    "# Perfect prediction line\n",
    "plt.plot([y_test.min(), y_test.max()], \n",
    "         [y_test.min(), y_test.max()], \n",
    "         color='red', \n",
    "         linestyle='--', \n",
    "         label='Perfect Prediction')\n",
    "\n",
    "# Plot styling\n",
    "plt.title('Actual vs Predicted Values', fontsize=14)\n",
    "plt.xlabel('Actual Values', fontsize=12)\n",
    "plt.ylabel('Predicted Values', fontsize=12)\n",
    "plt.legend()"
   ]
  },
  {
   "cell_type": "code",
   "execution_count": 43,
   "metadata": {},
   "outputs": [
    {
     "name": "stdout",
     "output_type": "stream",
     "text": [
      "385967\n"
     ]
    }
   ],
   "source": [
    "predicted_quarterly_revenue=int(y_pred.sum())\n",
    "print(predicted_quarterly_revenue)"
   ]
  },
  {
   "cell_type": "markdown",
   "metadata": {},
   "source": [
    "# Testing the accuracy of predicting whether customers churn or not using logistical regression"
   ]
  },
  {
   "cell_type": "code",
   "execution_count": 44,
   "metadata": {},
   "outputs": [
    {
     "name": "stdout",
     "output_type": "stream",
     "text": [
      "(3370, 1)\n",
      "(3370, 5)\n"
     ]
    }
   ],
   "source": [
    "\n",
    "x=features.drop(columns=['Sales_90','sales_90_flag'])\n",
    "i=features[['sales_90_flag']]\n",
    "\n",
    "\n",
    "\n",
    "i_train,i_test,x_train,x_test=train_test_split(i,x,random_state=100,test_size=.2)\n",
    "\n",
    "print(i.shape)\n",
    "print(x.shape)"
   ]
  },
  {
   "cell_type": "markdown",
   "metadata": {},
   "source": [
    "## Comparing different logistical models"
   ]
  },
  {
   "cell_type": "code",
   "execution_count": 45,
   "metadata": {},
   "outputs": [
    {
     "name": "stdout",
     "output_type": "stream",
     "text": [
      "               precision    recall  f1-score   support\n",
      "\n",
      "      churned       0.59      0.60      0.59       279\n",
      "did not churn       0.71      0.71      0.71       395\n",
      "\n",
      "     accuracy                           0.66       674\n",
      "    macro avg       0.65      0.65      0.65       674\n",
      " weighted avg       0.66      0.66      0.66       674\n",
      "\n"
     ]
    },
    {
     "name": "stderr",
     "output_type": "stream",
     "text": [
      "C:\\Users\\As-Pro\\AppData\\Local\\Packages\\PythonSoftwareFoundation.Python.3.11_qbz5n2kfra8p0\\LocalCache\\local-packages\\Python311\\site-packages\\sklearn\\utils\\validation.py:1408: DataConversionWarning: A column-vector y was passed when a 1d array was expected. Please change the shape of y to (n_samples, ), for example using ravel().\n",
      "  y = column_or_1d(y, warn=True)\n"
     ]
    }
   ],
   "source": [
    "logreg = LogisticRegression(random_state=16)\n",
    "logreg.fit(x_train,i_train)\n",
    "logreg_pred = logreg.predict(x_test)\n",
    "\n",
    "target_names = ['churned', 'did not churn']\n",
    "print(classification_report(i_test, logreg_pred, target_names=target_names))"
   ]
  },
  {
   "cell_type": "code",
   "execution_count": 46,
   "metadata": {},
   "outputs": [
    {
     "name": "stderr",
     "output_type": "stream",
     "text": [
      "C:\\Users\\As-Pro\\AppData\\Local\\Packages\\PythonSoftwareFoundation.Python.3.11_qbz5n2kfra8p0\\LocalCache\\local-packages\\Python311\\site-packages\\sklearn\\utils\\validation.py:1408: DataConversionWarning: A column-vector y was passed when a 1d array was expected. Please change the shape of y to (n_samples, ), for example using ravel().\n",
      "  y = column_or_1d(y, warn=True)\n"
     ]
    },
    {
     "name": "stdout",
     "output_type": "stream",
     "text": [
      "               precision    recall  f1-score   support\n",
      "\n",
      "      churned       0.59      0.62      0.60       279\n",
      "did not churn       0.72      0.69      0.71       395\n",
      "\n",
      "     accuracy                           0.66       674\n",
      "    macro avg       0.65      0.66      0.65       674\n",
      " weighted avg       0.66      0.66      0.66       674\n",
      "\n"
     ]
    }
   ],
   "source": [
    "# liblinear solver\n",
    "logreg_liblinear = LogisticRegression(solver='liblinear',random_state=42)\n",
    "logreg_liblinear.fit(x_train,i_train)\n",
    "lib_pred = logreg_liblinear.predict(x_test)\n",
    "\n",
    "\n",
    "target_names = ['churned', 'did not churn']\n",
    "print(classification_report(i_test, lib_pred, target_names=target_names))"
   ]
  },
  {
   "cell_type": "code",
   "execution_count": 47,
   "metadata": {},
   "outputs": [
    {
     "name": "stderr",
     "output_type": "stream",
     "text": [
      "C:\\Users\\As-Pro\\AppData\\Local\\Packages\\PythonSoftwareFoundation.Python.3.11_qbz5n2kfra8p0\\LocalCache\\local-packages\\Python311\\site-packages\\sklearn\\utils\\validation.py:1408: DataConversionWarning: A column-vector y was passed when a 1d array was expected. Please change the shape of y to (n_samples, ), for example using ravel().\n",
      "  y = column_or_1d(y, warn=True)\n"
     ]
    },
    {
     "name": "stdout",
     "output_type": "stream",
     "text": [
      "               precision    recall  f1-score   support\n",
      "\n",
      "      churned       0.59      0.04      0.07       279\n",
      "did not churn       0.59      0.98      0.74       395\n",
      "\n",
      "     accuracy                           0.59       674\n",
      "    macro avg       0.59      0.51      0.40       674\n",
      " weighted avg       0.59      0.59      0.46       674\n",
      "\n"
     ]
    },
    {
     "name": "stderr",
     "output_type": "stream",
     "text": [
      "C:\\Users\\As-Pro\\AppData\\Local\\Packages\\PythonSoftwareFoundation.Python.3.11_qbz5n2kfra8p0\\LocalCache\\local-packages\\Python311\\site-packages\\sklearn\\linear_model\\_sag.py:348: ConvergenceWarning: The max_iter was reached which means the coef_ did not converge\n",
      "  warnings.warn(\n"
     ]
    }
   ],
   "source": [
    "# Saga Solver\n",
    "lr_elastic = LogisticRegression(solver='saga', random_state=42)\n",
    "lr_elastic.fit(x_train,i_train)\n",
    "elasticnet = lr_elastic.predict(x_test)\n",
    "target_names = ['churned', 'did not churn']\n",
    "print(classification_report(i_test, elasticnet, target_names=target_names))"
   ]
  },
  {
   "cell_type": "code",
   "execution_count": 48,
   "metadata": {},
   "outputs": [
    {
     "name": "stderr",
     "output_type": "stream",
     "text": [
      "C:\\Users\\As-Pro\\AppData\\Local\\Packages\\PythonSoftwareFoundation.Python.3.11_qbz5n2kfra8p0\\LocalCache\\local-packages\\Python311\\site-packages\\sklearn\\utils\\validation.py:1408: DataConversionWarning: A column-vector y was passed when a 1d array was expected. Please change the shape of y to (n_samples, ), for example using ravel().\n",
      "  y = column_or_1d(y, warn=True)\n"
     ]
    },
    {
     "name": "stdout",
     "output_type": "stream",
     "text": [
      "               precision    recall  f1-score   support\n",
      "\n",
      "      churned       0.59      0.60      0.59       279\n",
      "did not churn       0.71      0.71      0.71       395\n",
      "\n",
      "     accuracy                           0.66       674\n",
      "    macro avg       0.65      0.65      0.65       674\n",
      " weighted avg       0.66      0.66      0.66       674\n",
      "\n"
     ]
    }
   ],
   "source": [
    "# Newton cg solver\n",
    "lr_newton = LogisticRegression(solver='newton-cg', random_state=42)\n",
    "lr_newton.fit(x_train,i_train)\n",
    "newt_pred = lr_newton.predict(x_test)\n",
    "target_names = ['churned', 'did not churn']\n",
    "print(classification_report(i_test, newt_pred, target_names=target_names))\n"
   ]
  },
  {
   "cell_type": "code",
   "execution_count": 49,
   "metadata": {},
   "outputs": [
    {
     "name": "stderr",
     "output_type": "stream",
     "text": [
      "C:\\Users\\As-Pro\\AppData\\Local\\Packages\\PythonSoftwareFoundation.Python.3.11_qbz5n2kfra8p0\\LocalCache\\local-packages\\Python311\\site-packages\\sklearn\\utils\\validation.py:1408: DataConversionWarning: A column-vector y was passed when a 1d array was expected. Please change the shape of y to (n_samples, ), for example using ravel().\n",
      "  y = column_or_1d(y, warn=True)\n"
     ]
    },
    {
     "name": "stdout",
     "output_type": "stream",
     "text": [
      "               precision    recall  f1-score   support\n",
      "\n",
      "      churned       0.66      0.17      0.27       279\n",
      "did not churn       0.62      0.94      0.74       395\n",
      "\n",
      "     accuracy                           0.62       674\n",
      "    macro avg       0.64      0.55      0.51       674\n",
      " weighted avg       0.63      0.62      0.55       674\n",
      "\n"
     ]
    },
    {
     "name": "stderr",
     "output_type": "stream",
     "text": [
      "C:\\Users\\As-Pro\\AppData\\Local\\Packages\\PythonSoftwareFoundation.Python.3.11_qbz5n2kfra8p0\\LocalCache\\local-packages\\Python311\\site-packages\\sklearn\\linear_model\\_sag.py:348: ConvergenceWarning: The max_iter was reached which means the coef_ did not converge\n",
      "  warnings.warn(\n"
     ]
    }
   ],
   "source": [
    "# Using the sag solver\n",
    "lr_sag = LogisticRegression(solver='sag', random_state=42)\n",
    "lr_sag.fit(x_train, i_train)\n",
    "lr_sag=lr_sag.predict(x_test)\n",
    "target_names = ['churned', 'did not churn']\n",
    "print(classification_report(i_test, lr_sag, target_names=target_names))"
   ]
  },
  {
   "cell_type": "markdown",
   "metadata": {},
   "source": [
    "The major cost for the a company is a customer churning, which hadnt been predicted to churn. Therefore the true benefit of the model is based on the recall which are the true positives, which is calculated to be at 75%. As due to the strategy of small targetted discounts, true negatives only have a small cost associated with the intervention."
   ]
  },
  {
   "cell_type": "code",
   "execution_count": 50,
   "metadata": {},
   "outputs": [
    {
     "data": {
      "image/png": "[encoded data removed]",
      "text/plain": [
       "<Figure size 800x600 with 2 Axes>"
      ]
     },
     "metadata": {},
     "output_type": "display_data"
    },
    {
     "name": "stdout",
     "output_type": "stream",
     "text": [
      "Confusion Matrix:\n",
      "[[167 116]\n",
      " [112 279]]\n"
     ]
    }
   ],
   "source": [
    "# Generate the confusion matrix\n",
    "cnf_matrix = confusion_matrix(logreg_pred, i_test)\n",
    "\n",
    "# Define class names\n",
    "class_names = ['Not Churned', 'Churned']  # name of classes\n",
    "\n",
    "# Create figure and axis\n",
    "fig, ax = plt.subplots(figsize=(8, 6))\n",
    "\n",
    "# Set tick marks and labels\n",
    "tick_marks = np.arange(len(class_names))\n",
    "plt.xticks(tick_marks, class_names)\n",
    "plt.yticks(tick_marks, class_names)\n",
    "\n",
    "# Create heatmap\n",
    "sns.heatmap(pd.DataFrame(cnf_matrix), annot=True, cmap=\"YlGnBu\", fmt='g')\n",
    "\n",
    "# Adjust axis labels\n",
    "ax.xaxis.set_label_position(\"bottom\")\n",
    "\n",
    "# Add labels and title\n",
    "plt.title('Logreg Confusion matrix', y=1.1)\n",
    "plt.ylabel('Test Movement')\n",
    "plt.xlabel('Predicted Movement')\n",
    "\n",
    "# Adjust layout\n",
    "plt.tight_layout()\n",
    "\n",
    "# Display the plot\n",
    "plt.show()\n",
    "\n",
    "# Print confusion matrix values for reference\n",
    "print(\"Confusion Matrix:\")\n",
    "print(cnf_matrix)\n"
   ]
  },
  {
   "cell_type": "code",
   "execution_count": 51,
   "metadata": {},
   "outputs": [
    {
     "data": {
      "image/png": "[encoded data removed]",
      "text/plain": [
       "<Figure size 800x600 with 2 Axes>"
      ]
     },
     "metadata": {},
     "output_type": "display_data"
    },
    {
     "name": "stdout",
     "output_type": "stream",
     "text": [
      "Confusion Matrix:\n",
      "[[173 122]\n",
      " [106 273]]\n"
     ]
    }
   ],
   "source": [
    "# Generate the confusion matrix\n",
    "cnf_matrix = confusion_matrix(lib_pred, i_test)\n",
    "\n",
    "# Define class names\n",
    "class_names = ['Not Churned', 'Churned']  # name of classes\n",
    "\n",
    "# Create figure and axis\n",
    "fig, ax = plt.subplots(figsize=(8, 6))\n",
    "\n",
    "# Set tick marks and labels\n",
    "tick_marks = np.arange(len(class_names))\n",
    "plt.xticks(tick_marks, class_names)\n",
    "plt.yticks(tick_marks, class_names)\n",
    "\n",
    "# Create heatmap\n",
    "sns.heatmap(pd.DataFrame(cnf_matrix), annot=True, cmap=\"YlGnBu\", fmt='g')\n",
    "\n",
    "# Adjust axis labels\n",
    "ax.xaxis.set_label_position(\"bottom\")\n",
    "\n",
    "# Add labels and title\n",
    "plt.title('Confusion matrix', y=1.1)\n",
    "plt.ylabel('Test Movement')\n",
    "plt.xlabel('Predicted Movement')\n",
    "\n",
    "# Adjust layout\n",
    "plt.tight_layout()\n",
    "\n",
    "# Display the plot\n",
    "plt.show()\n",
    "\n",
    "# Print confusion matrix values for reference\n",
    "print(\"Confusion Matrix:\")\n",
    "print(cnf_matrix)"
   ]
  },
  {
   "cell_type": "markdown",
   "metadata": {},
   "source": [
    "# Application of model to all data\n",
    "The chosen Logreg liblinear model will now be applied to the whole dataset"
   ]
  },
  {
   "cell_type": "code",
   "execution_count": 52,
   "metadata": {},
   "outputs": [],
   "source": [
    "features_total=features.copy()\n"
   ]
  },
  {
   "cell_type": "code",
   "execution_count": 53,
   "metadata": {},
   "outputs": [],
   "source": [
    "x_total=features_total.drop(columns=['Sales_90','sales_90_flag'])\n",
    "y_total=features_total['sales_90_flag']\n",
    "i_total=features_total['Sales_90']\n",
    "y_pred = logreg_liblinear.predict(x_total)"
   ]
  },
  {
   "cell_type": "code",
   "execution_count": 54,
   "metadata": {},
   "outputs": [
    {
     "data": {
      "image/png": "[encoded data removed]",
      "text/plain": [
       "<Figure size 800x600 with 2 Axes>"
      ]
     },
     "metadata": {},
     "output_type": "display_data"
    }
   ],
   "source": [
    "# Generate the confusion matrix\n",
    "cnf_matrix = confusion_matrix(y_pred, y_total)\n",
    "\n",
    "# Define class names\n",
    "class_names = ['Not Churned', 'Churned']  # name of classes\n",
    "\n",
    "# Create figure and axis\n",
    "fig, ax = plt.subplots(figsize=(8, 6))\n",
    "\n",
    "# Set tick marks and labels\n",
    "tick_marks = np.arange(len(class_names))\n",
    "plt.xticks(tick_marks, class_names)\n",
    "plt.yticks(tick_marks, class_names)\n",
    "\n",
    "# Create heatmap\n",
    "sns.heatmap(pd.DataFrame(cnf_matrix), annot=True, cmap=\"YlGnBu\", fmt='g')\n",
    "\n",
    "# Adjust axis labels\n",
    "ax.xaxis.set_label_position(\"bottom\")\n",
    "\n",
    "# Add labels and title\n",
    "plt.title('Confusion matrix', y=1.1)\n",
    "plt.ylabel('Test Movement')\n",
    "plt.xlabel('Predicted Movement')\n",
    "\n",
    "# Adjust layout\n",
    "plt.tight_layout()\n",
    "\n",
    "# Display the plot\n",
    "plt.show()\n"
   ]
  },
  {
   "cell_type": "code",
   "execution_count": 55,
   "metadata": {},
   "outputs": [
    {
     "name": "stdout",
     "output_type": "stream",
     "text": [
      "               precision    recall  f1-score   support\n",
      "\n",
      "did not spend       0.63      0.64      0.63      1449\n",
      "        spend       0.72      0.71      0.72      1921\n",
      "\n",
      "     accuracy                           0.68      3370\n",
      "    macro avg       0.68      0.68      0.68      3370\n",
      " weighted avg       0.68      0.68      0.68      3370\n",
      "\n"
     ]
    }
   ],
   "source": [
    "target_names = ['did not spend', 'spend']\n",
    "print(classification_report(y_total, y_pred, target_names=target_names))\n"
   ]
  },
  {
   "cell_type": "code",
   "execution_count": 56,
   "metadata": {},
   "outputs": [],
   "source": [
    "features_total=features_total.reset_index()"
   ]
  },
  {
   "cell_type": "code",
   "execution_count": 57,
   "metadata": {},
   "outputs": [],
   "source": [
    "y_pred=pd.DataFrame(y_pred)\n",
    "y_pred=y_pred.rename(columns={0:'PREDICTED_SALES'})\n",
    "features_total=pd.merge(features_total,y_pred,left_index=True, right_index=True)"
   ]
  },
  {
   "cell_type": "code",
   "execution_count": 58,
   "metadata": {},
   "outputs": [
    {
     "data": {
      "text/html": [
       "<div>\n",
       "<style scoped>\n",
       "    .dataframe tbody tr th:only-of-type {\n",
       "        vertical-align: middle;\n",
       "    }\n",
       "\n",
       "    .dataframe tbody tr th {\n",
       "        vertical-align: top;\n",
       "    }\n",
       "\n",
       "    .dataframe thead th {\n",
       "        text-align: right;\n",
       "    }\n",
       "</style>\n",
       "<table border=\"1\" class=\"dataframe\">\n",
       "  <thead>\n",
       "    <tr style=\"text-align: right;\">\n",
       "      <th></th>\n",
       "      <th>CustomerID</th>\n",
       "      <th>Recency</th>\n",
       "      <th>Frequency</th>\n",
       "      <th>sales_value_sum</th>\n",
       "      <th>sales_values_mean</th>\n",
       "      <th>sales_last_month</th>\n",
       "      <th>Sales_90</th>\n",
       "      <th>sales_90_flag</th>\n",
       "      <th>PREDICTED_SALES</th>\n",
       "      <th>PREDICTED_SPEND</th>\n",
       "    </tr>\n",
       "  </thead>\n",
       "  <tbody>\n",
       "    <tr>\n",
       "      <th>0</th>\n",
       "      <td>12346.0</td>\n",
       "      <td>234</td>\n",
       "      <td>1</td>\n",
       "      <td>77183.60</td>\n",
       "      <td>77183.600000</td>\n",
       "      <td>0.0</td>\n",
       "      <td>0.00</td>\n",
       "      <td>0.0</td>\n",
       "      <td>0.0</td>\n",
       "      <td>-138488.219815</td>\n",
       "    </tr>\n",
       "    <tr>\n",
       "      <th>1</th>\n",
       "      <td>12347.0</td>\n",
       "      <td>38</td>\n",
       "      <td>124</td>\n",
       "      <td>2790.86</td>\n",
       "      <td>22.506935</td>\n",
       "      <td>0.0</td>\n",
       "      <td>1519.14</td>\n",
       "      <td>1.0</td>\n",
       "      <td>1.0</td>\n",
       "      <td>1645.474254</td>\n",
       "    </tr>\n",
       "    <tr>\n",
       "      <th>2</th>\n",
       "      <td>12348.0</td>\n",
       "      <td>157</td>\n",
       "      <td>28</td>\n",
       "      <td>1487.24</td>\n",
       "      <td>53.115714</td>\n",
       "      <td>0.0</td>\n",
       "      <td>310.00</td>\n",
       "      <td>1.0</td>\n",
       "      <td>1.0</td>\n",
       "      <td>925.809061</td>\n",
       "    </tr>\n",
       "    <tr>\n",
       "      <th>3</th>\n",
       "      <td>12350.0</td>\n",
       "      <td>218</td>\n",
       "      <td>17</td>\n",
       "      <td>334.40</td>\n",
       "      <td>19.670588</td>\n",
       "      <td>0.0</td>\n",
       "      <td>0.00</td>\n",
       "      <td>0.0</td>\n",
       "      <td>0.0</td>\n",
       "      <td>195.975424</td>\n",
       "    </tr>\n",
       "    <tr>\n",
       "      <th>4</th>\n",
       "      <td>12352.0</td>\n",
       "      <td>170</td>\n",
       "      <td>38</td>\n",
       "      <td>1561.81</td>\n",
       "      <td>41.100263</td>\n",
       "      <td>0.0</td>\n",
       "      <td>944.23</td>\n",
       "      <td>1.0</td>\n",
       "      <td>1.0</td>\n",
       "      <td>984.125619</td>\n",
       "    </tr>\n",
       "  </tbody>\n",
       "</table>\n",
       "</div>"
      ],
      "text/plain": [
       "   CustomerID  Recency  Frequency  sales_value_sum  sales_values_mean  \\\n",
       "0     12346.0      234          1         77183.60       77183.600000   \n",
       "1     12347.0       38        124          2790.86          22.506935   \n",
       "2     12348.0      157         28          1487.24          53.115714   \n",
       "3     12350.0      218         17           334.40          19.670588   \n",
       "4     12352.0      170         38          1561.81          41.100263   \n",
       "\n",
       "   sales_last_month  Sales_90  sales_90_flag  PREDICTED_SALES  PREDICTED_SPEND  \n",
       "0               0.0      0.00            0.0              0.0   -138488.219815  \n",
       "1               0.0   1519.14            1.0              1.0      1645.474254  \n",
       "2               0.0    310.00            1.0              1.0       925.809061  \n",
       "3               0.0      0.00            0.0              0.0       195.975424  \n",
       "4               0.0    944.23            1.0              1.0       984.125619  "
      ]
     },
     "execution_count": 58,
     "metadata": {},
     "output_type": "execute_result"
    }
   ],
   "source": [
    "\n",
    "y_pred = model.predict(x_total)\n",
    "y_pred=pd.DataFrame(y_pred)\n",
    "predicted_spend=y_pred.rename(columns={0:'PREDICTED_SPEND'})\n",
    "features_total=pd.merge(features_total,predicted_spend,left_index=True, right_index=True)\n",
    "features_total.head()\n"
   ]
  },
  {
   "cell_type": "code",
   "execution_count": 59,
   "metadata": {},
   "outputs": [
    {
     "data": {
      "text/plain": [
       "<matplotlib.legend.Legend at 0x1e0d3b33d90>"
      ]
     },
     "execution_count": 59,
     "metadata": {},
     "output_type": "execute_result"
    },
    {
     "data": {
      "image/png": "[encoded data removed]",
      "text/plain": [
       "<Figure size 1000x600 with 1 Axes>"
      ]
     },
     "metadata": {},
     "output_type": "display_data"
    }
   ],
   "source": [
    "# Create scatter plot\n",
    "plt.figure(figsize=(10, 6))\n",
    "plt.scatter(i_total, y_pred, alpha=0.7, color='blue', label='Predictions')\n",
    "\n",
    "# Perfect prediction line\n",
    "plt.plot([y_test.min(), y_test.max()], \n",
    "         [y_test.min(), y_test.max()], \n",
    "         color='red', \n",
    "         linestyle='--', \n",
    "         label='Perfect Prediction')\n",
    "\n",
    "# Plot styling\n",
    "plt.title('Actual vs Predicted Values', fontsize=14)\n",
    "plt.xlabel('Actual Values', fontsize=12)\n",
    "plt.ylabel('Predicted Values', fontsize=12)\n",
    "plt.legend()"
   ]
  },
  {
   "cell_type": "markdown",
   "metadata": {},
   "source": [
    "# Evaluating benefit of model "
   ]
  },
  {
   "cell_type": "markdown",
   "metadata": {},
   "source": [
    "## Business case for targetting of customers\n",
    "        1. Find biggest customers who are expected to churn \n",
    "        2. Calculate the estimated cost of saving promotion- including "
   ]
  },
  {
   "cell_type": "code",
   "execution_count": 60,
   "metadata": {},
   "outputs": [
    {
     "data": {
      "text/html": [
       "<div>\n",
       "<style scoped>\n",
       "    .dataframe tbody tr th:only-of-type {\n",
       "        vertical-align: middle;\n",
       "    }\n",
       "\n",
       "    .dataframe tbody tr th {\n",
       "        vertical-align: top;\n",
       "    }\n",
       "\n",
       "    .dataframe thead th {\n",
       "        text-align: right;\n",
       "    }\n",
       "</style>\n",
       "<table border=\"1\" class=\"dataframe\">\n",
       "  <thead>\n",
       "    <tr style=\"text-align: right;\">\n",
       "      <th></th>\n",
       "      <th>CustomerID</th>\n",
       "      <th>Recency</th>\n",
       "      <th>Frequency</th>\n",
       "      <th>sales_value_sum</th>\n",
       "      <th>sales_values_mean</th>\n",
       "      <th>sales_last_month</th>\n",
       "      <th>Sales_90</th>\n",
       "      <th>sales_90_flag</th>\n",
       "      <th>PREDICTED_SALES</th>\n",
       "      <th>PREDICTED_SPEND</th>\n",
       "    </tr>\n",
       "  </thead>\n",
       "  <tbody>\n",
       "    <tr>\n",
       "      <th>264</th>\n",
       "      <td>12764.0</td>\n",
       "      <td>225</td>\n",
       "      <td>45</td>\n",
       "      <td>1693.88</td>\n",
       "      <td>37.641778</td>\n",
       "      <td>0.0</td>\n",
       "      <td>0.0</td>\n",
       "      <td>0.0</td>\n",
       "      <td>0.0</td>\n",
       "      <td>1084.840474</td>\n",
       "    </tr>\n",
       "    <tr>\n",
       "      <th>1740</th>\n",
       "      <td>15332.0</td>\n",
       "      <td>275</td>\n",
       "      <td>35</td>\n",
       "      <td>1661.06</td>\n",
       "      <td>47.458857</td>\n",
       "      <td>0.0</td>\n",
       "      <td>0.0</td>\n",
       "      <td>0.0</td>\n",
       "      <td>0.0</td>\n",
       "      <td>1080.614024</td>\n",
       "    </tr>\n",
       "    <tr>\n",
       "      <th>372</th>\n",
       "      <td>12967.0</td>\n",
       "      <td>266</td>\n",
       "      <td>19</td>\n",
       "      <td>1660.90</td>\n",
       "      <td>87.415789</td>\n",
       "      <td>0.0</td>\n",
       "      <td>0.0</td>\n",
       "      <td>0.0</td>\n",
       "      <td>0.0</td>\n",
       "      <td>1027.284335</td>\n",
       "    </tr>\n",
       "    <tr>\n",
       "      <th>1570</th>\n",
       "      <td>15057.0</td>\n",
       "      <td>184</td>\n",
       "      <td>25</td>\n",
       "      <td>1489.50</td>\n",
       "      <td>59.580000</td>\n",
       "      <td>0.0</td>\n",
       "      <td>0.0</td>\n",
       "      <td>0.0</td>\n",
       "      <td>0.0</td>\n",
       "      <td>927.937960</td>\n",
       "    </tr>\n",
       "    <tr>\n",
       "      <th>1507</th>\n",
       "      <td>14935.0</td>\n",
       "      <td>206</td>\n",
       "      <td>10</td>\n",
       "      <td>1784.71</td>\n",
       "      <td>178.471000</td>\n",
       "      <td>0.0</td>\n",
       "      <td>0.0</td>\n",
       "      <td>0.0</td>\n",
       "      <td>0.0</td>\n",
       "      <td>900.860584</td>\n",
       "    </tr>\n",
       "  </tbody>\n",
       "</table>\n",
       "</div>"
      ],
      "text/plain": [
       "      CustomerID  Recency  Frequency  sales_value_sum  sales_values_mean  \\\n",
       "264      12764.0      225         45          1693.88          37.641778   \n",
       "1740     15332.0      275         35          1661.06          47.458857   \n",
       "372      12967.0      266         19          1660.90          87.415789   \n",
       "1570     15057.0      184         25          1489.50          59.580000   \n",
       "1507     14935.0      206         10          1784.71         178.471000   \n",
       "\n",
       "      sales_last_month  Sales_90  sales_90_flag  PREDICTED_SALES  \\\n",
       "264                0.0       0.0            0.0              0.0   \n",
       "1740               0.0       0.0            0.0              0.0   \n",
       "372                0.0       0.0            0.0              0.0   \n",
       "1570               0.0       0.0            0.0              0.0   \n",
       "1507               0.0       0.0            0.0              0.0   \n",
       "\n",
       "      PREDICTED_SPEND  \n",
       "264       1084.840474  \n",
       "1740      1080.614024  \n",
       "372       1027.284335  \n",
       "1570       927.937960  \n",
       "1507       900.860584  "
      ]
     },
     "execution_count": 60,
     "metadata": {},
     "output_type": "execute_result"
    }
   ],
   "source": [
    "pred_churn_pop=features_total.loc[features_total['PREDICTED_SALES']==0].sort_values(by=['PREDICTED_SPEND'],ascending=False)\n",
    "pred_churn_pop=pred_churn_pop.loc[features_total['PREDICTED_SPEND']>0]\n",
    "pred_churn_pop.head()"
   ]
  },
  {
   "cell_type": "markdown",
   "metadata": {},
   "source": [
    "### Due to the discount based on percentage spend and the low cost associated with automated email messages as"
   ]
  },
  {
   "cell_type": "code",
   "execution_count": 61,
   "metadata": {},
   "outputs": [
    {
     "data": {
      "image/png": "[encoded data removed]",
      "text/plain": [
       "<Figure size 1000x600 with 1 Axes>"
      ]
     },
     "metadata": {},
     "output_type": "display_data"
    }
   ],
   "source": [
    "pred_spend=pred_churn_pop['PREDICTED_SPEND']\n",
    "\n",
    "# Create a figure and axis\n",
    "plt.figure(figsize=(10, 6))\n",
    "\n",
    "# Create the histogram\n",
    "plt.hist(pred_spend, bins=30, color='skyblue', edgecolor='black', alpha=0.7)\n",
    "\n",
    "# Add labels and title\n",
    "plt.xlabel('Expected_Spend', fontsize=12)\n",
    "plt.ylabel('Number of Customers', fontsize=12)\n",
    "plt.title('Expected Spend of churning customers', fontsize=14)\n",
    "\n",
    "# Add grid for better readability\n",
    "plt.grid(axis='y', alpha=0.3)\n",
    "\n",
    "# Add a vertical line at the mean\n",
    "plt.axvline(pred_spend.mean(), color='red', linestyle='dashed', linewidth=1, label=f'Mean: {pred_spend.mean():.2f}')\n",
    "\n",
    "# Add legend\n",
    "plt.legend()\n",
    "\n",
    "# Show the plot\n",
    "plt.tight_layout()\n",
    "plt.show()"
   ]
  },
  {
   "cell_type": "markdown",
   "metadata": {},
   "source": [
    "# The Marketing Campaign\n",
    "\n",
    "The campaign will target customers who are predicted to churn by offering them small but specific discounts (e.g., 8%) on their three largest previous purchases. Research indicates that such promotions increase customer repurchase intentions by 13 to 21% [[2]](#2) by creating a sense of urgency and encouraging larger order quantities.\n",
    "These targeted discounts are expected to reduce churn through:\n",
    "\n",
    "#### > Building customer goodwill\n",
    "#### > Decreasing intervals between purchases, which reinforces habitual buying behavior\n",
    "\n",
    "The estimated cost of the marketing program is calculated by multiplying the discount rate by the expected customer spend, totaling $21,469.6464. However, two important factors must be considered:\n",
    "\n",
    "Approximately 34% of predicted churning customers will be misidentified, meaning about one-third of these discounts will be given to customers who would have stayed regardless.\n",
    "\n",
    "The cost of these discounts should be offset by increased revenue from retained customers and their subsequent repeat purchases. This however will would be impossible to predict therefore this programme should be run on a continual basis to better understand the impacts on customer retention and changing purchasing behaviour.\n",
    "\n",
    "\n",
    "[^2]:Harvard Business Review, June 7, 2024.  From the article, “Research: Smaller, More Precise Discounts Could Increase Your Sale"
   ]
  },
  {
   "cell_type": "code",
   "execution_count": 62,
   "metadata": {},
   "outputs": [
    {
     "data": {
      "text/html": [
       "<div>\n",
       "<style scoped>\n",
       "    .dataframe tbody tr th:only-of-type {\n",
       "        vertical-align: middle;\n",
       "    }\n",
       "\n",
       "    .dataframe tbody tr th {\n",
       "        vertical-align: top;\n",
       "    }\n",
       "\n",
       "    .dataframe thead th {\n",
       "        text-align: right;\n",
       "    }\n",
       "</style>\n",
       "<table border=\"1\" class=\"dataframe\">\n",
       "  <thead>\n",
       "    <tr style=\"text-align: right;\">\n",
       "      <th></th>\n",
       "      <th>CustomerID</th>\n",
       "      <th>Recency</th>\n",
       "      <th>Frequency</th>\n",
       "      <th>sales_value_sum</th>\n",
       "      <th>sales_values_mean</th>\n",
       "      <th>sales_last_month</th>\n",
       "      <th>Sales_90</th>\n",
       "      <th>sales_90_flag</th>\n",
       "      <th>PREDICTED_SALES</th>\n",
       "      <th>PREDICTED_SPEND</th>\n",
       "    </tr>\n",
       "  </thead>\n",
       "  <tbody>\n",
       "    <tr>\n",
       "      <th>264</th>\n",
       "      <td>12764.0</td>\n",
       "      <td>225</td>\n",
       "      <td>45</td>\n",
       "      <td>1693.88</td>\n",
       "      <td>37.641778</td>\n",
       "      <td>0.0</td>\n",
       "      <td>0.00</td>\n",
       "      <td>0.0</td>\n",
       "      <td>0.0</td>\n",
       "      <td>1084.840474</td>\n",
       "    </tr>\n",
       "    <tr>\n",
       "      <th>1740</th>\n",
       "      <td>15332.0</td>\n",
       "      <td>275</td>\n",
       "      <td>35</td>\n",
       "      <td>1661.06</td>\n",
       "      <td>47.458857</td>\n",
       "      <td>0.0</td>\n",
       "      <td>0.00</td>\n",
       "      <td>0.0</td>\n",
       "      <td>0.0</td>\n",
       "      <td>1080.614024</td>\n",
       "    </tr>\n",
       "    <tr>\n",
       "      <th>372</th>\n",
       "      <td>12967.0</td>\n",
       "      <td>266</td>\n",
       "      <td>19</td>\n",
       "      <td>1660.90</td>\n",
       "      <td>87.415789</td>\n",
       "      <td>0.0</td>\n",
       "      <td>0.00</td>\n",
       "      <td>0.0</td>\n",
       "      <td>0.0</td>\n",
       "      <td>1027.284335</td>\n",
       "    </tr>\n",
       "    <tr>\n",
       "      <th>1570</th>\n",
       "      <td>15057.0</td>\n",
       "      <td>184</td>\n",
       "      <td>25</td>\n",
       "      <td>1489.50</td>\n",
       "      <td>59.580000</td>\n",
       "      <td>0.0</td>\n",
       "      <td>0.00</td>\n",
       "      <td>0.0</td>\n",
       "      <td>0.0</td>\n",
       "      <td>927.937960</td>\n",
       "    </tr>\n",
       "    <tr>\n",
       "      <th>1507</th>\n",
       "      <td>14935.0</td>\n",
       "      <td>206</td>\n",
       "      <td>10</td>\n",
       "      <td>1784.71</td>\n",
       "      <td>178.471000</td>\n",
       "      <td>0.0</td>\n",
       "      <td>0.00</td>\n",
       "      <td>0.0</td>\n",
       "      <td>0.0</td>\n",
       "      <td>900.860584</td>\n",
       "    </tr>\n",
       "    <tr>\n",
       "      <th>...</th>\n",
       "      <td>...</td>\n",
       "      <td>...</td>\n",
       "      <td>...</td>\n",
       "      <td>...</td>\n",
       "      <td>...</td>\n",
       "      <td>...</td>\n",
       "      <td>...</td>\n",
       "      <td>...</td>\n",
       "      <td>...</td>\n",
       "      <td>...</td>\n",
       "    </tr>\n",
       "    <tr>\n",
       "      <th>100</th>\n",
       "      <td>12506.0</td>\n",
       "      <td>141</td>\n",
       "      <td>23</td>\n",
       "      <td>73.50</td>\n",
       "      <td>3.195652</td>\n",
       "      <td>0.0</td>\n",
       "      <td>0.00</td>\n",
       "      <td>0.0</td>\n",
       "      <td>0.0</td>\n",
       "      <td>1.774616</td>\n",
       "    </tr>\n",
       "    <tr>\n",
       "      <th>2049</th>\n",
       "      <td>15901.0</td>\n",
       "      <td>63</td>\n",
       "      <td>24</td>\n",
       "      <td>110.49</td>\n",
       "      <td>4.603750</td>\n",
       "      <td>0.0</td>\n",
       "      <td>253.39</td>\n",
       "      <td>1.0</td>\n",
       "      <td>0.0</td>\n",
       "      <td>1.628450</td>\n",
       "    </tr>\n",
       "    <tr>\n",
       "      <th>2215</th>\n",
       "      <td>16205.0</td>\n",
       "      <td>88</td>\n",
       "      <td>27</td>\n",
       "      <td>112.35</td>\n",
       "      <td>4.161111</td>\n",
       "      <td>0.0</td>\n",
       "      <td>649.03</td>\n",
       "      <td>1.0</td>\n",
       "      <td>0.0</td>\n",
       "      <td>1.381575</td>\n",
       "    </tr>\n",
       "    <tr>\n",
       "      <th>781</th>\n",
       "      <td>13682.0</td>\n",
       "      <td>96</td>\n",
       "      <td>3</td>\n",
       "      <td>59.50</td>\n",
       "      <td>19.833333</td>\n",
       "      <td>0.0</td>\n",
       "      <td>0.00</td>\n",
       "      <td>0.0</td>\n",
       "      <td>0.0</td>\n",
       "      <td>0.399288</td>\n",
       "    </tr>\n",
       "    <tr>\n",
       "      <th>1417</th>\n",
       "      <td>14765.0</td>\n",
       "      <td>21</td>\n",
       "      <td>8</td>\n",
       "      <td>95.50</td>\n",
       "      <td>11.937500</td>\n",
       "      <td>15.0</td>\n",
       "      <td>158.61</td>\n",
       "      <td>1.0</td>\n",
       "      <td>0.0</td>\n",
       "      <td>0.279638</td>\n",
       "    </tr>\n",
       "  </tbody>\n",
       "</table>\n",
       "<p>1281 rows × 10 columns</p>\n",
       "</div>"
      ],
      "text/plain": [
       "      CustomerID  Recency  Frequency  sales_value_sum  sales_values_mean  \\\n",
       "264      12764.0      225         45          1693.88          37.641778   \n",
       "1740     15332.0      275         35          1661.06          47.458857   \n",
       "372      12967.0      266         19          1660.90          87.415789   \n",
       "1570     15057.0      184         25          1489.50          59.580000   \n",
       "1507     14935.0      206         10          1784.71         178.471000   \n",
       "...          ...      ...        ...              ...                ...   \n",
       "100      12506.0      141         23            73.50           3.195652   \n",
       "2049     15901.0       63         24           110.49           4.603750   \n",
       "2215     16205.0       88         27           112.35           4.161111   \n",
       "781      13682.0       96          3            59.50          19.833333   \n",
       "1417     14765.0       21          8            95.50          11.937500   \n",
       "\n",
       "      sales_last_month  Sales_90  sales_90_flag  PREDICTED_SALES  \\\n",
       "264                0.0      0.00            0.0              0.0   \n",
       "1740               0.0      0.00            0.0              0.0   \n",
       "372                0.0      0.00            0.0              0.0   \n",
       "1570               0.0      0.00            0.0              0.0   \n",
       "1507               0.0      0.00            0.0              0.0   \n",
       "...                ...       ...            ...              ...   \n",
       "100                0.0      0.00            0.0              0.0   \n",
       "2049               0.0    253.39            1.0              0.0   \n",
       "2215               0.0    649.03            1.0              0.0   \n",
       "781                0.0      0.00            0.0              0.0   \n",
       "1417              15.0    158.61            1.0              0.0   \n",
       "\n",
       "      PREDICTED_SPEND  \n",
       "264       1084.840474  \n",
       "1740      1080.614024  \n",
       "372       1027.284335  \n",
       "1570       927.937960  \n",
       "1507       900.860584  \n",
       "...               ...  \n",
       "100          1.774616  \n",
       "2049         1.628450  \n",
       "2215         1.381575  \n",
       "781          0.399288  \n",
       "1417         0.279638  \n",
       "\n",
       "[1281 rows x 10 columns]"
      ]
     },
     "execution_count": 62,
     "metadata": {},
     "output_type": "execute_result"
    }
   ],
   "source": [
    "pred_churn_pop"
   ]
  },
  {
   "cell_type": "code",
   "execution_count": 63,
   "metadata": {},
   "outputs": [
    {
     "name": "stdout",
     "output_type": "stream",
     "text": [
      "\n",
      "Alternative method result:\n"
     ]
    },
    {
     "name": "stderr",
     "output_type": "stream",
     "text": [
      "C:\\Users\\As-Pro\\AppData\\Local\\Temp\\ipykernel_14052\\2597230401.py:4: FutureWarning: The provided callable <built-in function sum> is currently using DataFrameGroupBy.sum. In a future version of pandas, the provided callable will be used directly. To keep current behavior pass the string \"sum\" instead.\n",
      "  trans_churn=trans_churn.groupby(['CustomerID','StockCode','Description']).agg(sum)\n"
     ]
    },
    {
     "data": {
      "text/html": [
       "<div>\n",
       "<style scoped>\n",
       "    .dataframe tbody tr th:only-of-type {\n",
       "        vertical-align: middle;\n",
       "    }\n",
       "\n",
       "    .dataframe tbody tr th {\n",
       "        vertical-align: top;\n",
       "    }\n",
       "\n",
       "    .dataframe thead th {\n",
       "        text-align: right;\n",
       "    }\n",
       "</style>\n",
       "<table border=\"1\" class=\"dataframe\">\n",
       "  <thead>\n",
       "    <tr style=\"text-align: right;\">\n",
       "      <th></th>\n",
       "      <th>CustomerID</th>\n",
       "      <th>StockCode</th>\n",
       "      <th>Description</th>\n",
       "      <th>Sales</th>\n",
       "    </tr>\n",
       "  </thead>\n",
       "  <tbody>\n",
       "    <tr>\n",
       "      <th>0</th>\n",
       "      <td>12350.0</td>\n",
       "      <td>20615</td>\n",
       "      <td>BLUE POLKADOT PASSPORT COVER</td>\n",
       "      <td>25.2</td>\n",
       "    </tr>\n",
       "    <tr>\n",
       "      <th>1</th>\n",
       "      <td>12350.0</td>\n",
       "      <td>20652</td>\n",
       "      <td>BLUE POLKADOT LUGGAGE TAG</td>\n",
       "      <td>15.0</td>\n",
       "    </tr>\n",
       "    <tr>\n",
       "      <th>2</th>\n",
       "      <td>12350.0</td>\n",
       "      <td>21171</td>\n",
       "      <td>BATHROOM METAL SIGN</td>\n",
       "      <td>17.4</td>\n",
       "    </tr>\n",
       "    <tr>\n",
       "      <th>3</th>\n",
       "      <td>12353.0</td>\n",
       "      <td>22890</td>\n",
       "      <td>NOVELTY BISCUITS CAKE STAND 3 TIER</td>\n",
       "      <td>39.8</td>\n",
       "    </tr>\n",
       "    <tr>\n",
       "      <th>4</th>\n",
       "      <td>12353.0</td>\n",
       "      <td>37446</td>\n",
       "      <td>MINI CAKE STAND WITH HANGING CAKES</td>\n",
       "      <td>11.6</td>\n",
       "    </tr>\n",
       "  </tbody>\n",
       "</table>\n",
       "</div>"
      ],
      "text/plain": [
       "   CustomerID StockCode                         Description  Sales\n",
       "0     12350.0     20615        BLUE POLKADOT PASSPORT COVER   25.2\n",
       "1     12350.0     20652          BLUE POLKADOT LUGGAGE TAG    15.0\n",
       "2     12350.0     21171                BATHROOM METAL SIGN    17.4\n",
       "3     12353.0     22890  NOVELTY BISCUITS CAKE STAND 3 TIER   39.8\n",
       "4     12353.0     37446  MINI CAKE STAND WITH HANGING CAKES   11.6"
      ]
     },
     "execution_count": 63,
     "metadata": {},
     "output_type": "execute_result"
    }
   ],
   "source": [
    "churn_id=pred_churn_pop['CustomerID'].astype(int)\n",
    "trans_churn=transactions.loc[transactions['CustomerID'].isin(churn_id)]\n",
    "trans_churn=trans_churn[['CustomerID','StockCode','Description','Sales']]\n",
    "trans_churn=trans_churn.groupby(['CustomerID','StockCode','Description']).agg(sum)\n",
    "\n",
    "result_alt = (trans_churn.sort_values(['CustomerID','StockCode','Description', 'Sales'], ascending=[True,True,True, False])\n",
    "               .groupby('CustomerID')\n",
    "               .head(3)\n",
    "               .reset_index())\n",
    "\n",
    "print(\"\\nAlternative method result:\")\n",
    "\n",
    "\n",
    "result_alt.head()\n"
   ]
  },
  {
   "cell_type": "code",
   "execution_count": 64,
   "metadata": {},
   "outputs": [
    {
     "name": "stdout",
     "output_type": "stream",
     "text": [
      "Total Sales of predicted churn population  268370.58\n",
      "Total lost revenue from discount (8%) 21469.6464\n",
      "misallocated discounts 7299.679776000001\n"
     ]
    }
   ],
   "source": [
    "total_sales=result_alt['Sales'].sum()\n",
    "print(\"Total Sales of predicted churn population \", total_sales)\n",
    "\n",
    "total_discount_amount=total_sales*.08\n",
    "\n",
    "misallocated_discounts = total_discount_amount * .34\n",
    "\n",
    "print(\"Total lost revenue from discount (8%)\", total_discount_amount)\n",
    "\n",
    "print(\"misallocated discounts\",misallocated_discounts)"
   ]
  },
  {
   "cell_type": "code",
   "execution_count": null,
   "metadata": {},
   "outputs": [],
   "source": []
  },
  {
   "cell_type": "markdown",
   "metadata": {},
   "source": [
    "# Review and Review\n",
    "\n",
    "To increase the accuracy of the algorthim if there was an ability to attach more customer data to the transactional data this would allow more accuracy in predicting which customers would churn."
   ]
  },
  {
   "cell_type": "code",
   "execution_count": 65,
   "metadata": {},
   "outputs": [
    {
     "data": {
      "text/plain": [
       "np.float64(18785.9406)"
      ]
     },
     "execution_count": 65,
     "metadata": {},
     "output_type": "execute_result"
    }
   ],
   "source": [
    "total_sales*.07"
   ]
  },
  {
   "cell_type": "markdown",
   "metadata": {},
   "source": []
  },
  {
   "cell_type": "markdown",
   "metadata": {},
   "source": [
    "<a id=\"1\">[1]</a>: Fader, Peter S., Bruce G. S. Hardie, and Paul D. Berger (2004),\n",
    "“Customer-Base Analysis with Discrete-Time Transaction Data,”\n",
    "unpublished working paper.\n",
    "———, ———, and Ka Lok Lee (2005), “RFM and CLV: Using IsoCLV Curves for Customer Base Analysis,” Journal of Marketing\n",
    "Research, 42 (November), 415-30\n",
    "\n",
    "\n",
    "<a id=\"2\">[2]</a>:Harvard Business Review, June 7, 2024.  From the article, “Research: Smaller, More Precise Discounts Could Increase Your Sale"
   ]
  }
 ],
 "metadata": {
  "kernelspec": {
   "display_name": "Python 3",
   "language": "python",
   "name": "python3"
  },
  "language_info": {
   "codemirror_mode": {
    "name": "ipython",
    "version": 3
   },
   "file_extension": ".py",
   "mimetype": "text/x-python",
   "name": "python",
   "nbconvert_exporter": "python",
   "pygments_lexer": "ipython3",
   "version": "3.11.9"
  }
 },
 "nbformat": 4,
 "nbformat_minor": 2
}
